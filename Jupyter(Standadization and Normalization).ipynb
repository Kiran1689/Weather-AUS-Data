{
 "cells": [
  {
   "cell_type": "code",
   "execution_count": 1,
   "metadata": {},
   "outputs": [],
   "source": [
    "import pandas as pd\n",
    "import numpy as np\n",
    "df=pd.read_csv(\"A:/2ndYear/3rdsem/Statistics for Data Science/Project/Filtered data.csv\")"
   ]
  },
  {
   "cell_type": "code",
   "execution_count": 2,
   "metadata": {},
   "outputs": [
    {
     "data": {
      "text/html": [
       "<div>\n",
       "<style scoped>\n",
       "    .dataframe tbody tr th:only-of-type {\n",
       "        vertical-align: middle;\n",
       "    }\n",
       "\n",
       "    .dataframe tbody tr th {\n",
       "        vertical-align: top;\n",
       "    }\n",
       "\n",
       "    .dataframe thead th {\n",
       "        text-align: right;\n",
       "    }\n",
       "</style>\n",
       "<table border=\"1\" class=\"dataframe\">\n",
       "  <thead>\n",
       "    <tr style=\"text-align: right;\">\n",
       "      <th></th>\n",
       "      <th>MinTemp</th>\n",
       "      <th>MaxTemp</th>\n",
       "      <th>Rainfall</th>\n",
       "      <th>Evaporation</th>\n",
       "      <th>Sunshine</th>\n",
       "      <th>WindGustDir</th>\n",
       "      <th>WindGustSpeed</th>\n",
       "      <th>WindDir9am</th>\n",
       "      <th>WindDir3pm</th>\n",
       "      <th>WindSpeed9am</th>\n",
       "      <th>...</th>\n",
       "      <th>Humidity3pm</th>\n",
       "      <th>Pressure9am</th>\n",
       "      <th>Pressure3pm</th>\n",
       "      <th>Cloud9am</th>\n",
       "      <th>Cloud3pm</th>\n",
       "      <th>Temp9am</th>\n",
       "      <th>Temp3pm</th>\n",
       "      <th>RainToday</th>\n",
       "      <th>RainTomorrow</th>\n",
       "      <th>make_code</th>\n",
       "    </tr>\n",
       "  </thead>\n",
       "  <tbody>\n",
       "    <tr>\n",
       "      <td>0</td>\n",
       "      <td>13.6</td>\n",
       "      <td>34.2</td>\n",
       "      <td>0.0</td>\n",
       "      <td>8.8</td>\n",
       "      <td>12.8</td>\n",
       "      <td>5</td>\n",
       "      <td>35</td>\n",
       "      <td>2</td>\n",
       "      <td>13</td>\n",
       "      <td>2</td>\n",
       "      <td>...</td>\n",
       "      <td>20</td>\n",
       "      <td>1015.8</td>\n",
       "      <td>1011.6</td>\n",
       "      <td>7</td>\n",
       "      <td>6</td>\n",
       "      <td>21.9</td>\n",
       "      <td>31.8</td>\n",
       "      <td>0</td>\n",
       "      <td>0</td>\n",
       "      <td>0</td>\n",
       "    </tr>\n",
       "    <tr>\n",
       "      <td>1</td>\n",
       "      <td>17.9</td>\n",
       "      <td>35.2</td>\n",
       "      <td>0.0</td>\n",
       "      <td>12.0</td>\n",
       "      <td>12.3</td>\n",
       "      <td>11</td>\n",
       "      <td>48</td>\n",
       "      <td>1</td>\n",
       "      <td>12</td>\n",
       "      <td>6</td>\n",
       "      <td>...</td>\n",
       "      <td>13</td>\n",
       "      <td>1006.3</td>\n",
       "      <td>1004.4</td>\n",
       "      <td>2</td>\n",
       "      <td>5</td>\n",
       "      <td>26.6</td>\n",
       "      <td>33.4</td>\n",
       "      <td>0</td>\n",
       "      <td>0</td>\n",
       "      <td>0</td>\n",
       "    </tr>\n",
       "    <tr>\n",
       "      <td>2</td>\n",
       "      <td>19.1</td>\n",
       "      <td>36.5</td>\n",
       "      <td>0.0</td>\n",
       "      <td>11.6</td>\n",
       "      <td>13.1</td>\n",
       "      <td>0</td>\n",
       "      <td>37</td>\n",
       "      <td>0</td>\n",
       "      <td>10</td>\n",
       "      <td>15</td>\n",
       "      <td>...</td>\n",
       "      <td>52</td>\n",
       "      <td>1010.5</td>\n",
       "      <td>1007.7</td>\n",
       "      <td>0</td>\n",
       "      <td>0</td>\n",
       "      <td>22.6</td>\n",
       "      <td>35.4</td>\n",
       "      <td>0</td>\n",
       "      <td>0</td>\n",
       "      <td>0</td>\n",
       "    </tr>\n",
       "    <tr>\n",
       "      <td>3</td>\n",
       "      <td>22.2</td>\n",
       "      <td>33.9</td>\n",
       "      <td>0.0</td>\n",
       "      <td>9.0</td>\n",
       "      <td>6.9</td>\n",
       "      <td>13</td>\n",
       "      <td>44</td>\n",
       "      <td>9</td>\n",
       "      <td>5</td>\n",
       "      <td>4</td>\n",
       "      <td>...</td>\n",
       "      <td>65</td>\n",
       "      <td>1007.4</td>\n",
       "      <td>1005.1</td>\n",
       "      <td>5</td>\n",
       "      <td>7</td>\n",
       "      <td>29.7</td>\n",
       "      <td>30.9</td>\n",
       "      <td>0</td>\n",
       "      <td>0</td>\n",
       "      <td>0</td>\n",
       "    </tr>\n",
       "    <tr>\n",
       "      <td>4</td>\n",
       "      <td>12.6</td>\n",
       "      <td>17.0</td>\n",
       "      <td>0.8</td>\n",
       "      <td>4.8</td>\n",
       "      <td>6.5</td>\n",
       "      <td>12</td>\n",
       "      <td>56</td>\n",
       "      <td>12</td>\n",
       "      <td>12</td>\n",
       "      <td>28</td>\n",
       "      <td>...</td>\n",
       "      <td>43</td>\n",
       "      <td>1008.3</td>\n",
       "      <td>1011.6</td>\n",
       "      <td>7</td>\n",
       "      <td>5</td>\n",
       "      <td>14.3</td>\n",
       "      <td>16.6</td>\n",
       "      <td>0</td>\n",
       "      <td>0</td>\n",
       "      <td>0</td>\n",
       "    </tr>\n",
       "    <tr>\n",
       "      <td>...</td>\n",
       "      <td>...</td>\n",
       "      <td>...</td>\n",
       "      <td>...</td>\n",
       "      <td>...</td>\n",
       "      <td>...</td>\n",
       "      <td>...</td>\n",
       "      <td>...</td>\n",
       "      <td>...</td>\n",
       "      <td>...</td>\n",
       "      <td>...</td>\n",
       "      <td>...</td>\n",
       "      <td>...</td>\n",
       "      <td>...</td>\n",
       "      <td>...</td>\n",
       "      <td>...</td>\n",
       "      <td>...</td>\n",
       "      <td>...</td>\n",
       "      <td>...</td>\n",
       "      <td>...</td>\n",
       "      <td>...</td>\n",
       "      <td>...</td>\n",
       "    </tr>\n",
       "    <tr>\n",
       "      <td>38881</td>\n",
       "      <td>16.0</td>\n",
       "      <td>25.2</td>\n",
       "      <td>0.0</td>\n",
       "      <td>8.6</td>\n",
       "      <td>11.9</td>\n",
       "      <td>10</td>\n",
       "      <td>41</td>\n",
       "      <td>12</td>\n",
       "      <td>10</td>\n",
       "      <td>11</td>\n",
       "      <td>...</td>\n",
       "      <td>48</td>\n",
       "      <td>1006.3</td>\n",
       "      <td>1005.4</td>\n",
       "      <td>6</td>\n",
       "      <td>1</td>\n",
       "      <td>18.6</td>\n",
       "      <td>23.5</td>\n",
       "      <td>0</td>\n",
       "      <td>0</td>\n",
       "      <td>0</td>\n",
       "    </tr>\n",
       "    <tr>\n",
       "      <td>38882</td>\n",
       "      <td>12.1</td>\n",
       "      <td>28.9</td>\n",
       "      <td>0.0</td>\n",
       "      <td>8.0</td>\n",
       "      <td>13.2</td>\n",
       "      <td>12</td>\n",
       "      <td>48</td>\n",
       "      <td>10</td>\n",
       "      <td>15</td>\n",
       "      <td>15</td>\n",
       "      <td>...</td>\n",
       "      <td>35</td>\n",
       "      <td>1016.1</td>\n",
       "      <td>1012.9</td>\n",
       "      <td>1</td>\n",
       "      <td>1</td>\n",
       "      <td>20.3</td>\n",
       "      <td>27.4</td>\n",
       "      <td>0</td>\n",
       "      <td>0</td>\n",
       "      <td>0</td>\n",
       "    </tr>\n",
       "    <tr>\n",
       "      <td>38883</td>\n",
       "      <td>16.7</td>\n",
       "      <td>26.5</td>\n",
       "      <td>0.0</td>\n",
       "      <td>8.6</td>\n",
       "      <td>11.9</td>\n",
       "      <td>14</td>\n",
       "      <td>28</td>\n",
       "      <td>13</td>\n",
       "      <td>15</td>\n",
       "      <td>11</td>\n",
       "      <td>...</td>\n",
       "      <td>47</td>\n",
       "      <td>1006.2</td>\n",
       "      <td>1005.2</td>\n",
       "      <td>6</td>\n",
       "      <td>1</td>\n",
       "      <td>19.4</td>\n",
       "      <td>25.1</td>\n",
       "      <td>0</td>\n",
       "      <td>0</td>\n",
       "      <td>0</td>\n",
       "    </tr>\n",
       "    <tr>\n",
       "      <td>38884</td>\n",
       "      <td>16.3</td>\n",
       "      <td>32.4</td>\n",
       "      <td>0.0</td>\n",
       "      <td>9.4</td>\n",
       "      <td>13.0</td>\n",
       "      <td>15</td>\n",
       "      <td>30</td>\n",
       "      <td>8</td>\n",
       "      <td>13</td>\n",
       "      <td>13</td>\n",
       "      <td>...</td>\n",
       "      <td>30</td>\n",
       "      <td>1008.0</td>\n",
       "      <td>1005.4</td>\n",
       "      <td>0</td>\n",
       "      <td>0</td>\n",
       "      <td>20.7</td>\n",
       "      <td>29.9</td>\n",
       "      <td>0</td>\n",
       "      <td>0</td>\n",
       "      <td>0</td>\n",
       "    </tr>\n",
       "    <tr>\n",
       "      <td>38885</td>\n",
       "      <td>24.5</td>\n",
       "      <td>33.9</td>\n",
       "      <td>0.0</td>\n",
       "      <td>8.0</td>\n",
       "      <td>13.1</td>\n",
       "      <td>4</td>\n",
       "      <td>31</td>\n",
       "      <td>3</td>\n",
       "      <td>4</td>\n",
       "      <td>6</td>\n",
       "      <td>...</td>\n",
       "      <td>57</td>\n",
       "      <td>1007.0</td>\n",
       "      <td>1003.4</td>\n",
       "      <td>3</td>\n",
       "      <td>1</td>\n",
       "      <td>30.6</td>\n",
       "      <td>31.9</td>\n",
       "      <td>0</td>\n",
       "      <td>0</td>\n",
       "      <td>0</td>\n",
       "    </tr>\n",
       "  </tbody>\n",
       "</table>\n",
       "<p>38886 rows × 22 columns</p>\n",
       "</div>"
      ],
      "text/plain": [
       "       MinTemp  MaxTemp  Rainfall  Evaporation  Sunshine  WindGustDir  \\\n",
       "0         13.6     34.2       0.0          8.8      12.8            5   \n",
       "1         17.9     35.2       0.0         12.0      12.3           11   \n",
       "2         19.1     36.5       0.0         11.6      13.1            0   \n",
       "3         22.2     33.9       0.0          9.0       6.9           13   \n",
       "4         12.6     17.0       0.8          4.8       6.5           12   \n",
       "...        ...      ...       ...          ...       ...          ...   \n",
       "38881     16.0     25.2       0.0          8.6      11.9           10   \n",
       "38882     12.1     28.9       0.0          8.0      13.2           12   \n",
       "38883     16.7     26.5       0.0          8.6      11.9           14   \n",
       "38884     16.3     32.4       0.0          9.4      13.0           15   \n",
       "38885     24.5     33.9       0.0          8.0      13.1            4   \n",
       "\n",
       "       WindGustSpeed  WindDir9am  WindDir3pm  WindSpeed9am  ...  Humidity3pm  \\\n",
       "0                 35           2          13             2  ...           20   \n",
       "1                 48           1          12             6  ...           13   \n",
       "2                 37           0          10            15  ...           52   \n",
       "3                 44           9           5             4  ...           65   \n",
       "4                 56          12          12            28  ...           43   \n",
       "...              ...         ...         ...           ...  ...          ...   \n",
       "38881             41          12          10            11  ...           48   \n",
       "38882             48          10          15            15  ...           35   \n",
       "38883             28          13          15            11  ...           47   \n",
       "38884             30           8          13            13  ...           30   \n",
       "38885             31           3           4             6  ...           57   \n",
       "\n",
       "       Pressure9am  Pressure3pm  Cloud9am  Cloud3pm  Temp9am  Temp3pm  \\\n",
       "0           1015.8       1011.6         7         6     21.9     31.8   \n",
       "1           1006.3       1004.4         2         5     26.6     33.4   \n",
       "2           1010.5       1007.7         0         0     22.6     35.4   \n",
       "3           1007.4       1005.1         5         7     29.7     30.9   \n",
       "4           1008.3       1011.6         7         5     14.3     16.6   \n",
       "...            ...          ...       ...       ...      ...      ...   \n",
       "38881       1006.3       1005.4         6         1     18.6     23.5   \n",
       "38882       1016.1       1012.9         1         1     20.3     27.4   \n",
       "38883       1006.2       1005.2         6         1     19.4     25.1   \n",
       "38884       1008.0       1005.4         0         0     20.7     29.9   \n",
       "38885       1007.0       1003.4         3         1     30.6     31.9   \n",
       "\n",
       "       RainToday  RainTomorrow  make_code  \n",
       "0              0             0          0  \n",
       "1              0             0          0  \n",
       "2              0             0          0  \n",
       "3              0             0          0  \n",
       "4              0             0          0  \n",
       "...          ...           ...        ...  \n",
       "38881          0             0          0  \n",
       "38882          0             0          0  \n",
       "38883          0             0          0  \n",
       "38884          0             0          0  \n",
       "38885          0             0          0  \n",
       "\n",
       "[38886 rows x 22 columns]"
      ]
     },
     "execution_count": 2,
     "metadata": {},
     "output_type": "execute_result"
    }
   ],
   "source": [
    "df"
   ]
  },
  {
   "cell_type": "code",
   "execution_count": 3,
   "metadata": {},
   "outputs": [],
   "source": [
    "df1=df.drop(['make_code'],axis=1)"
   ]
  },
  {
   "cell_type": "code",
   "execution_count": 4,
   "metadata": {},
   "outputs": [
    {
     "data": {
      "text/html": [
       "<div>\n",
       "<style scoped>\n",
       "    .dataframe tbody tr th:only-of-type {\n",
       "        vertical-align: middle;\n",
       "    }\n",
       "\n",
       "    .dataframe tbody tr th {\n",
       "        vertical-align: top;\n",
       "    }\n",
       "\n",
       "    .dataframe thead th {\n",
       "        text-align: right;\n",
       "    }\n",
       "</style>\n",
       "<table border=\"1\" class=\"dataframe\">\n",
       "  <thead>\n",
       "    <tr style=\"text-align: right;\">\n",
       "      <th></th>\n",
       "      <th>MinTemp</th>\n",
       "      <th>MaxTemp</th>\n",
       "      <th>Rainfall</th>\n",
       "      <th>Evaporation</th>\n",
       "      <th>Sunshine</th>\n",
       "      <th>WindGustDir</th>\n",
       "      <th>WindGustSpeed</th>\n",
       "      <th>WindDir9am</th>\n",
       "      <th>WindDir3pm</th>\n",
       "      <th>WindSpeed9am</th>\n",
       "      <th>...</th>\n",
       "      <th>Humidity9am</th>\n",
       "      <th>Humidity3pm</th>\n",
       "      <th>Pressure9am</th>\n",
       "      <th>Pressure3pm</th>\n",
       "      <th>Cloud9am</th>\n",
       "      <th>Cloud3pm</th>\n",
       "      <th>Temp9am</th>\n",
       "      <th>Temp3pm</th>\n",
       "      <th>RainToday</th>\n",
       "      <th>RainTomorrow</th>\n",
       "    </tr>\n",
       "  </thead>\n",
       "  <tbody>\n",
       "    <tr>\n",
       "      <td>0</td>\n",
       "      <td>13.6</td>\n",
       "      <td>34.2</td>\n",
       "      <td>0.0</td>\n",
       "      <td>8.8</td>\n",
       "      <td>12.8</td>\n",
       "      <td>5</td>\n",
       "      <td>35</td>\n",
       "      <td>2</td>\n",
       "      <td>13</td>\n",
       "      <td>2</td>\n",
       "      <td>...</td>\n",
       "      <td>50</td>\n",
       "      <td>20</td>\n",
       "      <td>1015.8</td>\n",
       "      <td>1011.6</td>\n",
       "      <td>7</td>\n",
       "      <td>6</td>\n",
       "      <td>21.9</td>\n",
       "      <td>31.8</td>\n",
       "      <td>0</td>\n",
       "      <td>0</td>\n",
       "    </tr>\n",
       "    <tr>\n",
       "      <td>1</td>\n",
       "      <td>17.9</td>\n",
       "      <td>35.2</td>\n",
       "      <td>0.0</td>\n",
       "      <td>12.0</td>\n",
       "      <td>12.3</td>\n",
       "      <td>11</td>\n",
       "      <td>48</td>\n",
       "      <td>1</td>\n",
       "      <td>12</td>\n",
       "      <td>6</td>\n",
       "      <td>...</td>\n",
       "      <td>20</td>\n",
       "      <td>13</td>\n",
       "      <td>1006.3</td>\n",
       "      <td>1004.4</td>\n",
       "      <td>2</td>\n",
       "      <td>5</td>\n",
       "      <td>26.6</td>\n",
       "      <td>33.4</td>\n",
       "      <td>0</td>\n",
       "      <td>0</td>\n",
       "    </tr>\n",
       "    <tr>\n",
       "      <td>2</td>\n",
       "      <td>19.1</td>\n",
       "      <td>36.5</td>\n",
       "      <td>0.0</td>\n",
       "      <td>11.6</td>\n",
       "      <td>13.1</td>\n",
       "      <td>0</td>\n",
       "      <td>37</td>\n",
       "      <td>0</td>\n",
       "      <td>10</td>\n",
       "      <td>15</td>\n",
       "      <td>...</td>\n",
       "      <td>99</td>\n",
       "      <td>52</td>\n",
       "      <td>1010.5</td>\n",
       "      <td>1007.7</td>\n",
       "      <td>0</td>\n",
       "      <td>0</td>\n",
       "      <td>22.6</td>\n",
       "      <td>35.4</td>\n",
       "      <td>0</td>\n",
       "      <td>0</td>\n",
       "    </tr>\n",
       "    <tr>\n",
       "      <td>3</td>\n",
       "      <td>22.2</td>\n",
       "      <td>33.9</td>\n",
       "      <td>0.0</td>\n",
       "      <td>9.0</td>\n",
       "      <td>6.9</td>\n",
       "      <td>13</td>\n",
       "      <td>44</td>\n",
       "      <td>9</td>\n",
       "      <td>5</td>\n",
       "      <td>4</td>\n",
       "      <td>...</td>\n",
       "      <td>60</td>\n",
       "      <td>65</td>\n",
       "      <td>1007.4</td>\n",
       "      <td>1005.1</td>\n",
       "      <td>5</td>\n",
       "      <td>7</td>\n",
       "      <td>29.7</td>\n",
       "      <td>30.9</td>\n",
       "      <td>0</td>\n",
       "      <td>0</td>\n",
       "    </tr>\n",
       "    <tr>\n",
       "      <td>4</td>\n",
       "      <td>12.6</td>\n",
       "      <td>17.0</td>\n",
       "      <td>0.8</td>\n",
       "      <td>4.8</td>\n",
       "      <td>6.5</td>\n",
       "      <td>12</td>\n",
       "      <td>56</td>\n",
       "      <td>12</td>\n",
       "      <td>12</td>\n",
       "      <td>28</td>\n",
       "      <td>...</td>\n",
       "      <td>66</td>\n",
       "      <td>43</td>\n",
       "      <td>1008.3</td>\n",
       "      <td>1011.6</td>\n",
       "      <td>7</td>\n",
       "      <td>5</td>\n",
       "      <td>14.3</td>\n",
       "      <td>16.6</td>\n",
       "      <td>0</td>\n",
       "      <td>0</td>\n",
       "    </tr>\n",
       "    <tr>\n",
       "      <td>...</td>\n",
       "      <td>...</td>\n",
       "      <td>...</td>\n",
       "      <td>...</td>\n",
       "      <td>...</td>\n",
       "      <td>...</td>\n",
       "      <td>...</td>\n",
       "      <td>...</td>\n",
       "      <td>...</td>\n",
       "      <td>...</td>\n",
       "      <td>...</td>\n",
       "      <td>...</td>\n",
       "      <td>...</td>\n",
       "      <td>...</td>\n",
       "      <td>...</td>\n",
       "      <td>...</td>\n",
       "      <td>...</td>\n",
       "      <td>...</td>\n",
       "      <td>...</td>\n",
       "      <td>...</td>\n",
       "      <td>...</td>\n",
       "      <td>...</td>\n",
       "    </tr>\n",
       "    <tr>\n",
       "      <td>38881</td>\n",
       "      <td>16.0</td>\n",
       "      <td>25.2</td>\n",
       "      <td>0.0</td>\n",
       "      <td>8.6</td>\n",
       "      <td>11.9</td>\n",
       "      <td>10</td>\n",
       "      <td>41</td>\n",
       "      <td>12</td>\n",
       "      <td>10</td>\n",
       "      <td>11</td>\n",
       "      <td>...</td>\n",
       "      <td>59</td>\n",
       "      <td>48</td>\n",
       "      <td>1006.3</td>\n",
       "      <td>1005.4</td>\n",
       "      <td>6</td>\n",
       "      <td>1</td>\n",
       "      <td>18.6</td>\n",
       "      <td>23.5</td>\n",
       "      <td>0</td>\n",
       "      <td>0</td>\n",
       "    </tr>\n",
       "    <tr>\n",
       "      <td>38882</td>\n",
       "      <td>12.1</td>\n",
       "      <td>28.9</td>\n",
       "      <td>0.0</td>\n",
       "      <td>8.0</td>\n",
       "      <td>13.2</td>\n",
       "      <td>12</td>\n",
       "      <td>48</td>\n",
       "      <td>10</td>\n",
       "      <td>15</td>\n",
       "      <td>15</td>\n",
       "      <td>...</td>\n",
       "      <td>46</td>\n",
       "      <td>35</td>\n",
       "      <td>1016.1</td>\n",
       "      <td>1012.9</td>\n",
       "      <td>1</td>\n",
       "      <td>1</td>\n",
       "      <td>20.3</td>\n",
       "      <td>27.4</td>\n",
       "      <td>0</td>\n",
       "      <td>0</td>\n",
       "    </tr>\n",
       "    <tr>\n",
       "      <td>38883</td>\n",
       "      <td>16.7</td>\n",
       "      <td>26.5</td>\n",
       "      <td>0.0</td>\n",
       "      <td>8.6</td>\n",
       "      <td>11.9</td>\n",
       "      <td>14</td>\n",
       "      <td>28</td>\n",
       "      <td>13</td>\n",
       "      <td>15</td>\n",
       "      <td>11</td>\n",
       "      <td>...</td>\n",
       "      <td>61</td>\n",
       "      <td>47</td>\n",
       "      <td>1006.2</td>\n",
       "      <td>1005.2</td>\n",
       "      <td>6</td>\n",
       "      <td>1</td>\n",
       "      <td>19.4</td>\n",
       "      <td>25.1</td>\n",
       "      <td>0</td>\n",
       "      <td>0</td>\n",
       "    </tr>\n",
       "    <tr>\n",
       "      <td>38884</td>\n",
       "      <td>16.3</td>\n",
       "      <td>32.4</td>\n",
       "      <td>0.0</td>\n",
       "      <td>9.4</td>\n",
       "      <td>13.0</td>\n",
       "      <td>15</td>\n",
       "      <td>30</td>\n",
       "      <td>8</td>\n",
       "      <td>13</td>\n",
       "      <td>13</td>\n",
       "      <td>...</td>\n",
       "      <td>57</td>\n",
       "      <td>30</td>\n",
       "      <td>1008.0</td>\n",
       "      <td>1005.4</td>\n",
       "      <td>0</td>\n",
       "      <td>0</td>\n",
       "      <td>20.7</td>\n",
       "      <td>29.9</td>\n",
       "      <td>0</td>\n",
       "      <td>0</td>\n",
       "    </tr>\n",
       "    <tr>\n",
       "      <td>38885</td>\n",
       "      <td>24.5</td>\n",
       "      <td>33.9</td>\n",
       "      <td>0.0</td>\n",
       "      <td>8.0</td>\n",
       "      <td>13.1</td>\n",
       "      <td>4</td>\n",
       "      <td>31</td>\n",
       "      <td>3</td>\n",
       "      <td>4</td>\n",
       "      <td>6</td>\n",
       "      <td>...</td>\n",
       "      <td>58</td>\n",
       "      <td>57</td>\n",
       "      <td>1007.0</td>\n",
       "      <td>1003.4</td>\n",
       "      <td>3</td>\n",
       "      <td>1</td>\n",
       "      <td>30.6</td>\n",
       "      <td>31.9</td>\n",
       "      <td>0</td>\n",
       "      <td>0</td>\n",
       "    </tr>\n",
       "  </tbody>\n",
       "</table>\n",
       "<p>38886 rows × 21 columns</p>\n",
       "</div>"
      ],
      "text/plain": [
       "       MinTemp  MaxTemp  Rainfall  Evaporation  Sunshine  WindGustDir  \\\n",
       "0         13.6     34.2       0.0          8.8      12.8            5   \n",
       "1         17.9     35.2       0.0         12.0      12.3           11   \n",
       "2         19.1     36.5       0.0         11.6      13.1            0   \n",
       "3         22.2     33.9       0.0          9.0       6.9           13   \n",
       "4         12.6     17.0       0.8          4.8       6.5           12   \n",
       "...        ...      ...       ...          ...       ...          ...   \n",
       "38881     16.0     25.2       0.0          8.6      11.9           10   \n",
       "38882     12.1     28.9       0.0          8.0      13.2           12   \n",
       "38883     16.7     26.5       0.0          8.6      11.9           14   \n",
       "38884     16.3     32.4       0.0          9.4      13.0           15   \n",
       "38885     24.5     33.9       0.0          8.0      13.1            4   \n",
       "\n",
       "       WindGustSpeed  WindDir9am  WindDir3pm  WindSpeed9am  ...  Humidity9am  \\\n",
       "0                 35           2          13             2  ...           50   \n",
       "1                 48           1          12             6  ...           20   \n",
       "2                 37           0          10            15  ...           99   \n",
       "3                 44           9           5             4  ...           60   \n",
       "4                 56          12          12            28  ...           66   \n",
       "...              ...         ...         ...           ...  ...          ...   \n",
       "38881             41          12          10            11  ...           59   \n",
       "38882             48          10          15            15  ...           46   \n",
       "38883             28          13          15            11  ...           61   \n",
       "38884             30           8          13            13  ...           57   \n",
       "38885             31           3           4             6  ...           58   \n",
       "\n",
       "       Humidity3pm  Pressure9am  Pressure3pm  Cloud9am  Cloud3pm  Temp9am  \\\n",
       "0               20       1015.8       1011.6         7         6     21.9   \n",
       "1               13       1006.3       1004.4         2         5     26.6   \n",
       "2               52       1010.5       1007.7         0         0     22.6   \n",
       "3               65       1007.4       1005.1         5         7     29.7   \n",
       "4               43       1008.3       1011.6         7         5     14.3   \n",
       "...            ...          ...          ...       ...       ...      ...   \n",
       "38881           48       1006.3       1005.4         6         1     18.6   \n",
       "38882           35       1016.1       1012.9         1         1     20.3   \n",
       "38883           47       1006.2       1005.2         6         1     19.4   \n",
       "38884           30       1008.0       1005.4         0         0     20.7   \n",
       "38885           57       1007.0       1003.4         3         1     30.6   \n",
       "\n",
       "       Temp3pm  RainToday  RainTomorrow  \n",
       "0         31.8          0             0  \n",
       "1         33.4          0             0  \n",
       "2         35.4          0             0  \n",
       "3         30.9          0             0  \n",
       "4         16.6          0             0  \n",
       "...        ...        ...           ...  \n",
       "38881     23.5          0             0  \n",
       "38882     27.4          0             0  \n",
       "38883     25.1          0             0  \n",
       "38884     29.9          0             0  \n",
       "38885     31.9          0             0  \n",
       "\n",
       "[38886 rows x 21 columns]"
      ]
     },
     "execution_count": 4,
     "metadata": {},
     "output_type": "execute_result"
    }
   ],
   "source": [
    "df1"
   ]
  },
  {
   "cell_type": "code",
   "execution_count": 5,
   "metadata": {},
   "outputs": [
    {
     "name": "stdout",
     "output_type": "stream",
     "text": [
      "mean for column  MinTemp 13.477043151777087\n",
      "variance for column  MinTemp 39.956507558740896\n",
      "mean for column  MaxTemp 24.977459754153234\n",
      "variance for column  MaxTemp 41.8100252918741\n",
      "mean for column  Rainfall 0.10563441855680392\n",
      "variance for column  Rainfall 0.07632340231176245\n",
      "mean for column  Evaporation 5.639559224399559\n",
      "variance for column  Evaporation 8.986056732548187\n",
      "mean for column  Sunshine 8.386252121586203\n",
      "variance for column  Sunshine 12.470334329026874\n",
      "mean for column  WindGustDir 7.13933035025459\n",
      "variance for column  WindGustDir 22.917914572774755\n",
      "mean for column  WindGustSpeed 38.667309571568175\n",
      "variance for column  WindGustSpeed 114.93411299799244\n",
      "mean for column  WindDir9am 6.831121740472149\n",
      "variance for column  WindDir9am 21.574025368898898\n",
      "mean for column  WindDir3pm 7.257264825387029\n",
      "variance for column  WindDir3pm 22.282585127605397\n",
      "mean for column  WindSpeed9am 14.641439078331533\n",
      "variance for column  WindSpeed9am 51.79080841119536\n",
      "mean for column  WindSpeed3pm 19.115182842153988\n",
      "variance for column  WindSpeed3pm 59.84937883631671\n",
      "mean for column  Humidity9am 63.58095458519776\n",
      "variance for column  Humidity9am 266.6330115717042\n",
      "mean for column  Humidity3pm 46.72661111968318\n",
      "variance for column  Humidity3pm 338.85510101100306\n",
      "mean for column  Pressure9am 1017.8154194311493\n",
      "variance for column  Pressure9am 27.95332839164376\n",
      "mean for column  Pressure3pm 1015.0837242195055\n",
      "variance for column  Pressure3pm 29.365966029537237\n",
      "mean for column  Cloud9am 3.8683330761713726\n",
      "variance for column  Cloud9am 7.623398877459833\n",
      "mean for column  Cloud3pm 3.9688834027670628\n",
      "variance for column  Cloud3pm 6.986713357782355\n",
      "mean for column  Temp9am 18.6095201357815\n",
      "variance for column  Temp9am 39.20794073925023\n",
      "mean for column  Temp3pm 23.501530113665456\n",
      "variance for column  Temp3pm 40.11581944086913\n",
      "mean for column  RainToday 0.02540760170755542\n",
      "variance for column  RainToday 0.02476269228526557\n",
      "mean for column  RainTomorrow 0.15277992079411615\n",
      "variance for column  RainTomorrow 0.12944154534043406\n"
     ]
    }
   ],
   "source": [
    "for i in df1:\n",
    "    print(\"mean for column \",i ,df[i].mean())\n",
    "    print(\"variance for column \",i,df[i].var())"
   ]
  },
  {
   "cell_type": "code",
   "execution_count": 6,
   "metadata": {},
   "outputs": [
    {
     "name": "stdout",
     "output_type": "stream",
     "text": [
      "standardised mean for column  MinTemp -0.000000\n",
      "standardised variance for column  MinTemp 1.000000\n",
      "standardised mean for column  MaxTemp -0.000000\n",
      "standardised variance for column  MaxTemp 1.000000\n",
      "standardised mean for column  Rainfall 0.000000\n",
      "standardised variance for column  Rainfall 1.000000\n",
      "standardised mean for column  Evaporation 0.000000\n",
      "standardised variance for column  Evaporation 1.000000\n",
      "standardised mean for column  Sunshine 0.000000\n",
      "standardised variance for column  Sunshine 1.000000\n",
      "standardised mean for column  WindGustDir 0.000000\n",
      "standardised variance for column  WindGustDir 1.000000\n",
      "standardised mean for column  WindGustSpeed -0.000000\n",
      "standardised variance for column  WindGustSpeed 1.000000\n",
      "standardised mean for column  WindDir9am 0.000000\n",
      "standardised variance for column  WindDir9am 1.000000\n",
      "standardised mean for column  WindDir3pm -0.000000\n",
      "standardised variance for column  WindDir3pm 1.000000\n",
      "standardised mean for column  WindSpeed9am -0.000000\n",
      "standardised variance for column  WindSpeed9am 1.000000\n",
      "standardised mean for column  WindSpeed3pm 0.000000\n",
      "standardised variance for column  WindSpeed3pm 1.000000\n",
      "standardised mean for column  Humidity9am -0.000000\n",
      "standardised variance for column  Humidity9am 1.000000\n",
      "standardised mean for column  Humidity3pm -0.000000\n",
      "standardised variance for column  Humidity3pm 1.000000\n",
      "standardised mean for column  Pressure9am 0.000000\n",
      "standardised variance for column  Pressure9am 1.000000\n",
      "standardised mean for column  Pressure3pm 0.000000\n",
      "standardised variance for column  Pressure3pm 1.000000\n",
      "standardised mean for column  Cloud9am 0.000000\n",
      "standardised variance for column  Cloud9am 1.000000\n",
      "standardised mean for column  Cloud3pm 0.000000\n",
      "standardised variance for column  Cloud3pm 1.000000\n",
      "standardised mean for column  Temp9am -0.000000\n",
      "standardised variance for column  Temp9am 1.000000\n",
      "standardised mean for column  Temp3pm -0.000000\n",
      "standardised variance for column  Temp3pm 1.000000\n",
      "standardised mean for column  RainToday -0.000000\n",
      "standardised variance for column  RainToday 1.000000\n",
      "standardised mean for column  RainTomorrow -0.000000\n",
      "standardised variance for column  RainTomorrow 1.000000\n"
     ]
    }
   ],
   "source": [
    "#Standardisation of data\n",
    "from sklearn import preprocessing\n",
    "import numpy as np\n",
    "for i in df1:\n",
    "    X_train = np.array([df1[i]]).reshape(-1,1)\n",
    "    X_scaled = preprocessing.scale(X_train)\n",
    "    a=X_scaled.mean(axis=0)\n",
    "    b=X_scaled.std(axis=0)\n",
    "    print(\"standardised mean for column \",i ,\"{:8f}\".format(float(a[0])))\n",
    "    print(\"standardised variance for column \",i,\"{:8f}\".format(float(b[0])))\n"
   ]
  },
  {
   "cell_type": "code",
   "execution_count": 7,
   "metadata": {},
   "outputs": [
    {
     "data": {
      "text/html": [
       "<div>\n",
       "<style scoped>\n",
       "    .dataframe tbody tr th:only-of-type {\n",
       "        vertical-align: middle;\n",
       "    }\n",
       "\n",
       "    .dataframe tbody tr th {\n",
       "        vertical-align: top;\n",
       "    }\n",
       "\n",
       "    .dataframe thead th {\n",
       "        text-align: right;\n",
       "    }\n",
       "</style>\n",
       "<table border=\"1\" class=\"dataframe\">\n",
       "  <thead>\n",
       "    <tr style=\"text-align: right;\">\n",
       "      <th></th>\n",
       "      <th>MinTemp</th>\n",
       "      <th>MaxTemp</th>\n",
       "      <th>Rainfall</th>\n",
       "      <th>Evaporation</th>\n",
       "      <th>Sunshine</th>\n",
       "      <th>WindGustDir</th>\n",
       "      <th>WindGustSpeed</th>\n",
       "      <th>WindDir9am</th>\n",
       "      <th>WindDir3pm</th>\n",
       "      <th>WindSpeed9am</th>\n",
       "      <th>...</th>\n",
       "      <th>Humidity3pm</th>\n",
       "      <th>Pressure9am</th>\n",
       "      <th>Pressure3pm</th>\n",
       "      <th>Cloud9am</th>\n",
       "      <th>Cloud3pm</th>\n",
       "      <th>Temp9am</th>\n",
       "      <th>Temp3pm</th>\n",
       "      <th>RainToday</th>\n",
       "      <th>RainTomorrow</th>\n",
       "      <th>make_code</th>\n",
       "    </tr>\n",
       "  </thead>\n",
       "  <tbody>\n",
       "    <tr>\n",
       "      <td>0</td>\n",
       "      <td>0.557692</td>\n",
       "      <td>0.732360</td>\n",
       "      <td>0.000000</td>\n",
       "      <td>0.615385</td>\n",
       "      <td>0.882759</td>\n",
       "      <td>0.333333</td>\n",
       "      <td>0.412698</td>\n",
       "      <td>0.133333</td>\n",
       "      <td>0.866667</td>\n",
       "      <td>0.000000</td>\n",
       "      <td>...</td>\n",
       "      <td>0.191919</td>\n",
       "      <td>0.436681</td>\n",
       "      <td>0.424051</td>\n",
       "      <td>0.875</td>\n",
       "      <td>0.666667</td>\n",
       "      <td>0.602667</td>\n",
       "      <td>0.709596</td>\n",
       "      <td>0.0</td>\n",
       "      <td>0.0</td>\n",
       "      <td>0.0</td>\n",
       "    </tr>\n",
       "    <tr>\n",
       "      <td>1</td>\n",
       "      <td>0.675824</td>\n",
       "      <td>0.756691</td>\n",
       "      <td>0.000000</td>\n",
       "      <td>0.839161</td>\n",
       "      <td>0.848276</td>\n",
       "      <td>0.733333</td>\n",
       "      <td>0.619048</td>\n",
       "      <td>0.066667</td>\n",
       "      <td>0.800000</td>\n",
       "      <td>0.121212</td>\n",
       "      <td>...</td>\n",
       "      <td>0.121212</td>\n",
       "      <td>0.021834</td>\n",
       "      <td>0.196203</td>\n",
       "      <td>0.250</td>\n",
       "      <td>0.555556</td>\n",
       "      <td>0.728000</td>\n",
       "      <td>0.750000</td>\n",
       "      <td>0.0</td>\n",
       "      <td>0.0</td>\n",
       "      <td>0.0</td>\n",
       "    </tr>\n",
       "    <tr>\n",
       "      <td>2</td>\n",
       "      <td>0.708791</td>\n",
       "      <td>0.788321</td>\n",
       "      <td>0.000000</td>\n",
       "      <td>0.811189</td>\n",
       "      <td>0.903448</td>\n",
       "      <td>0.000000</td>\n",
       "      <td>0.444444</td>\n",
       "      <td>0.000000</td>\n",
       "      <td>0.666667</td>\n",
       "      <td>0.393939</td>\n",
       "      <td>...</td>\n",
       "      <td>0.515152</td>\n",
       "      <td>0.205240</td>\n",
       "      <td>0.300633</td>\n",
       "      <td>0.000</td>\n",
       "      <td>0.000000</td>\n",
       "      <td>0.621333</td>\n",
       "      <td>0.800505</td>\n",
       "      <td>0.0</td>\n",
       "      <td>0.0</td>\n",
       "      <td>0.0</td>\n",
       "    </tr>\n",
       "    <tr>\n",
       "      <td>3</td>\n",
       "      <td>0.793956</td>\n",
       "      <td>0.725061</td>\n",
       "      <td>0.000000</td>\n",
       "      <td>0.629371</td>\n",
       "      <td>0.475862</td>\n",
       "      <td>0.866667</td>\n",
       "      <td>0.555556</td>\n",
       "      <td>0.600000</td>\n",
       "      <td>0.333333</td>\n",
       "      <td>0.060606</td>\n",
       "      <td>...</td>\n",
       "      <td>0.646465</td>\n",
       "      <td>0.069869</td>\n",
       "      <td>0.218354</td>\n",
       "      <td>0.625</td>\n",
       "      <td>0.777778</td>\n",
       "      <td>0.810667</td>\n",
       "      <td>0.686869</td>\n",
       "      <td>0.0</td>\n",
       "      <td>0.0</td>\n",
       "      <td>0.0</td>\n",
       "    </tr>\n",
       "    <tr>\n",
       "      <td>4</td>\n",
       "      <td>0.530220</td>\n",
       "      <td>0.313869</td>\n",
       "      <td>0.533333</td>\n",
       "      <td>0.335664</td>\n",
       "      <td>0.448276</td>\n",
       "      <td>0.800000</td>\n",
       "      <td>0.746032</td>\n",
       "      <td>0.800000</td>\n",
       "      <td>0.800000</td>\n",
       "      <td>0.787879</td>\n",
       "      <td>...</td>\n",
       "      <td>0.424242</td>\n",
       "      <td>0.109170</td>\n",
       "      <td>0.424051</td>\n",
       "      <td>0.875</td>\n",
       "      <td>0.555556</td>\n",
       "      <td>0.400000</td>\n",
       "      <td>0.325758</td>\n",
       "      <td>0.0</td>\n",
       "      <td>0.0</td>\n",
       "      <td>0.0</td>\n",
       "    </tr>\n",
       "    <tr>\n",
       "      <td>...</td>\n",
       "      <td>...</td>\n",
       "      <td>...</td>\n",
       "      <td>...</td>\n",
       "      <td>...</td>\n",
       "      <td>...</td>\n",
       "      <td>...</td>\n",
       "      <td>...</td>\n",
       "      <td>...</td>\n",
       "      <td>...</td>\n",
       "      <td>...</td>\n",
       "      <td>...</td>\n",
       "      <td>...</td>\n",
       "      <td>...</td>\n",
       "      <td>...</td>\n",
       "      <td>...</td>\n",
       "      <td>...</td>\n",
       "      <td>...</td>\n",
       "      <td>...</td>\n",
       "      <td>...</td>\n",
       "      <td>...</td>\n",
       "      <td>...</td>\n",
       "    </tr>\n",
       "    <tr>\n",
       "      <td>38881</td>\n",
       "      <td>0.623626</td>\n",
       "      <td>0.513382</td>\n",
       "      <td>0.000000</td>\n",
       "      <td>0.601399</td>\n",
       "      <td>0.820690</td>\n",
       "      <td>0.666667</td>\n",
       "      <td>0.507937</td>\n",
       "      <td>0.800000</td>\n",
       "      <td>0.666667</td>\n",
       "      <td>0.272727</td>\n",
       "      <td>...</td>\n",
       "      <td>0.474747</td>\n",
       "      <td>0.021834</td>\n",
       "      <td>0.227848</td>\n",
       "      <td>0.750</td>\n",
       "      <td>0.111111</td>\n",
       "      <td>0.514667</td>\n",
       "      <td>0.500000</td>\n",
       "      <td>0.0</td>\n",
       "      <td>0.0</td>\n",
       "      <td>0.0</td>\n",
       "    </tr>\n",
       "    <tr>\n",
       "      <td>38882</td>\n",
       "      <td>0.516484</td>\n",
       "      <td>0.603406</td>\n",
       "      <td>0.000000</td>\n",
       "      <td>0.559441</td>\n",
       "      <td>0.910345</td>\n",
       "      <td>0.800000</td>\n",
       "      <td>0.619048</td>\n",
       "      <td>0.666667</td>\n",
       "      <td>1.000000</td>\n",
       "      <td>0.393939</td>\n",
       "      <td>...</td>\n",
       "      <td>0.343434</td>\n",
       "      <td>0.449782</td>\n",
       "      <td>0.465190</td>\n",
       "      <td>0.125</td>\n",
       "      <td>0.111111</td>\n",
       "      <td>0.560000</td>\n",
       "      <td>0.598485</td>\n",
       "      <td>0.0</td>\n",
       "      <td>0.0</td>\n",
       "      <td>0.0</td>\n",
       "    </tr>\n",
       "    <tr>\n",
       "      <td>38883</td>\n",
       "      <td>0.642857</td>\n",
       "      <td>0.545012</td>\n",
       "      <td>0.000000</td>\n",
       "      <td>0.601399</td>\n",
       "      <td>0.820690</td>\n",
       "      <td>0.933333</td>\n",
       "      <td>0.301587</td>\n",
       "      <td>0.866667</td>\n",
       "      <td>1.000000</td>\n",
       "      <td>0.272727</td>\n",
       "      <td>...</td>\n",
       "      <td>0.464646</td>\n",
       "      <td>0.017467</td>\n",
       "      <td>0.221519</td>\n",
       "      <td>0.750</td>\n",
       "      <td>0.111111</td>\n",
       "      <td>0.536000</td>\n",
       "      <td>0.540404</td>\n",
       "      <td>0.0</td>\n",
       "      <td>0.0</td>\n",
       "      <td>0.0</td>\n",
       "    </tr>\n",
       "    <tr>\n",
       "      <td>38884</td>\n",
       "      <td>0.631868</td>\n",
       "      <td>0.688564</td>\n",
       "      <td>0.000000</td>\n",
       "      <td>0.657343</td>\n",
       "      <td>0.896552</td>\n",
       "      <td>1.000000</td>\n",
       "      <td>0.333333</td>\n",
       "      <td>0.533333</td>\n",
       "      <td>0.866667</td>\n",
       "      <td>0.333333</td>\n",
       "      <td>...</td>\n",
       "      <td>0.292929</td>\n",
       "      <td>0.096070</td>\n",
       "      <td>0.227848</td>\n",
       "      <td>0.000</td>\n",
       "      <td>0.000000</td>\n",
       "      <td>0.570667</td>\n",
       "      <td>0.661616</td>\n",
       "      <td>0.0</td>\n",
       "      <td>0.0</td>\n",
       "      <td>0.0</td>\n",
       "    </tr>\n",
       "    <tr>\n",
       "      <td>38885</td>\n",
       "      <td>0.857143</td>\n",
       "      <td>0.725061</td>\n",
       "      <td>0.000000</td>\n",
       "      <td>0.559441</td>\n",
       "      <td>0.903448</td>\n",
       "      <td>0.266667</td>\n",
       "      <td>0.349206</td>\n",
       "      <td>0.200000</td>\n",
       "      <td>0.266667</td>\n",
       "      <td>0.121212</td>\n",
       "      <td>...</td>\n",
       "      <td>0.565657</td>\n",
       "      <td>0.052402</td>\n",
       "      <td>0.164557</td>\n",
       "      <td>0.375</td>\n",
       "      <td>0.111111</td>\n",
       "      <td>0.834667</td>\n",
       "      <td>0.712121</td>\n",
       "      <td>0.0</td>\n",
       "      <td>0.0</td>\n",
       "      <td>0.0</td>\n",
       "    </tr>\n",
       "  </tbody>\n",
       "</table>\n",
       "<p>38886 rows × 22 columns</p>\n",
       "</div>"
      ],
      "text/plain": [
       "        MinTemp   MaxTemp  Rainfall  Evaporation  Sunshine  WindGustDir  \\\n",
       "0      0.557692  0.732360  0.000000     0.615385  0.882759     0.333333   \n",
       "1      0.675824  0.756691  0.000000     0.839161  0.848276     0.733333   \n",
       "2      0.708791  0.788321  0.000000     0.811189  0.903448     0.000000   \n",
       "3      0.793956  0.725061  0.000000     0.629371  0.475862     0.866667   \n",
       "4      0.530220  0.313869  0.533333     0.335664  0.448276     0.800000   \n",
       "...         ...       ...       ...          ...       ...          ...   \n",
       "38881  0.623626  0.513382  0.000000     0.601399  0.820690     0.666667   \n",
       "38882  0.516484  0.603406  0.000000     0.559441  0.910345     0.800000   \n",
       "38883  0.642857  0.545012  0.000000     0.601399  0.820690     0.933333   \n",
       "38884  0.631868  0.688564  0.000000     0.657343  0.896552     1.000000   \n",
       "38885  0.857143  0.725061  0.000000     0.559441  0.903448     0.266667   \n",
       "\n",
       "       WindGustSpeed  WindDir9am  WindDir3pm  WindSpeed9am  ...  Humidity3pm  \\\n",
       "0           0.412698    0.133333    0.866667      0.000000  ...     0.191919   \n",
       "1           0.619048    0.066667    0.800000      0.121212  ...     0.121212   \n",
       "2           0.444444    0.000000    0.666667      0.393939  ...     0.515152   \n",
       "3           0.555556    0.600000    0.333333      0.060606  ...     0.646465   \n",
       "4           0.746032    0.800000    0.800000      0.787879  ...     0.424242   \n",
       "...              ...         ...         ...           ...  ...          ...   \n",
       "38881       0.507937    0.800000    0.666667      0.272727  ...     0.474747   \n",
       "38882       0.619048    0.666667    1.000000      0.393939  ...     0.343434   \n",
       "38883       0.301587    0.866667    1.000000      0.272727  ...     0.464646   \n",
       "38884       0.333333    0.533333    0.866667      0.333333  ...     0.292929   \n",
       "38885       0.349206    0.200000    0.266667      0.121212  ...     0.565657   \n",
       "\n",
       "       Pressure9am  Pressure3pm  Cloud9am  Cloud3pm   Temp9am   Temp3pm  \\\n",
       "0         0.436681     0.424051     0.875  0.666667  0.602667  0.709596   \n",
       "1         0.021834     0.196203     0.250  0.555556  0.728000  0.750000   \n",
       "2         0.205240     0.300633     0.000  0.000000  0.621333  0.800505   \n",
       "3         0.069869     0.218354     0.625  0.777778  0.810667  0.686869   \n",
       "4         0.109170     0.424051     0.875  0.555556  0.400000  0.325758   \n",
       "...            ...          ...       ...       ...       ...       ...   \n",
       "38881     0.021834     0.227848     0.750  0.111111  0.514667  0.500000   \n",
       "38882     0.449782     0.465190     0.125  0.111111  0.560000  0.598485   \n",
       "38883     0.017467     0.221519     0.750  0.111111  0.536000  0.540404   \n",
       "38884     0.096070     0.227848     0.000  0.000000  0.570667  0.661616   \n",
       "38885     0.052402     0.164557     0.375  0.111111  0.834667  0.712121   \n",
       "\n",
       "       RainToday  RainTomorrow  make_code  \n",
       "0            0.0           0.0        0.0  \n",
       "1            0.0           0.0        0.0  \n",
       "2            0.0           0.0        0.0  \n",
       "3            0.0           0.0        0.0  \n",
       "4            0.0           0.0        0.0  \n",
       "...          ...           ...        ...  \n",
       "38881        0.0           0.0        0.0  \n",
       "38882        0.0           0.0        0.0  \n",
       "38883        0.0           0.0        0.0  \n",
       "38884        0.0           0.0        0.0  \n",
       "38885        0.0           0.0        0.0  \n",
       "\n",
       "[38886 rows x 22 columns]"
      ]
     },
     "execution_count": 7,
     "metadata": {},
     "output_type": "execute_result"
    }
   ],
   "source": [
    "#Normalization of data i.e., scaling all the values to be in the range of [0,1]\n",
    "from sklearn.preprocessing import MinMaxScaler\n",
    "\n",
    "col_names = df.columns\n",
    "\n",
    "scaler = MinMaxScaler()\n",
    "scaler.fit(df)\n",
    "scaled_features = scaler.transform(df)\n",
    "normalized_df = pd.DataFrame(data=scaled_features, columns=col_names)\n",
    "normalized_df"
   ]
  },
  {
   "cell_type": "code",
   "execution_count": 16,
   "metadata": {},
   "outputs": [
    {
     "data": {
      "text/plain": [
       "<matplotlib.axes._subplots.AxesSubplot at 0x24df4941648>"
      ]
     },
     "execution_count": 16,
     "metadata": {},
     "output_type": "execute_result"
    },
    {
     "data": {
      "image/png": "[encoded data removed]",
      "text/plain": [
       "<Figure size 432x288 with 1 Axes>"
      ]
     },
     "metadata": {
      "needs_background": "light"
     },
     "output_type": "display_data"
    }
   ],
   "source": [
    "import seaborn as sns\n",
    "sns.distplot(df1['MinTemp'])"
   ]
  },
  {
   "cell_type": "code",
   "execution_count": 22,
   "metadata": {},
   "outputs": [
    {
     "data": {
      "text/plain": [
       "13.477043151777087"
      ]
     },
     "execution_count": 22,
     "metadata": {},
     "output_type": "execute_result"
    }
   ],
   "source": [
    "df1['MinTemp'].mean()"
   ]
  },
  {
   "cell_type": "code",
   "execution_count": 21,
   "metadata": {},
   "outputs": [
    {
     "data": {
      "text/plain": [
       "0    9.6\n",
       "dtype: float64"
      ]
     },
     "execution_count": 21,
     "metadata": {},
     "output_type": "execute_result"
    }
   ],
   "source": [
    "df1['MinTemp'].mode()"
   ]
  },
  {
   "cell_type": "code",
   "execution_count": 20,
   "metadata": {},
   "outputs": [
    {
     "data": {
      "text/plain": [
       "13.3"
      ]
     },
     "execution_count": 20,
     "metadata": {},
     "output_type": "execute_result"
    }
   ],
   "source": [
    "\n",
    "df1['MinTemp'].median()"
   ]
  },
  {
   "cell_type": "code",
   "execution_count": 14,
   "metadata": {},
   "outputs": [
    {
     "data": {
      "text/plain": [
       "<matplotlib.axes._subplots.AxesSubplot at 0x24df4731708>"
      ]
     },
     "execution_count": 14,
     "metadata": {},
     "output_type": "execute_result"
    },
    {
     "data": {
      "image/png": "[encoded data removed]",
      "text/plain": [
       "<Figure size 432x288 with 1 Axes>"
      ]
     },
     "metadata": {
      "needs_background": "light"
     },
     "output_type": "display_data"
    }
   ],
   "source": [
    "sns.distplot(df1['MaxTemp'])"
   ]
  },
  {
   "cell_type": "code",
   "execution_count": 23,
   "metadata": {},
   "outputs": [
    {
     "data": {
      "text/plain": [
       "24.977459754153234"
      ]
     },
     "execution_count": 23,
     "metadata": {},
     "output_type": "execute_result"
    }
   ],
   "source": [
    "df1['MaxTemp'].mean()"
   ]
  },
  {
   "cell_type": "code",
   "execution_count": 24,
   "metadata": {},
   "outputs": [
    {
     "data": {
      "text/plain": [
       "25.0"
      ]
     },
     "execution_count": 24,
     "metadata": {},
     "output_type": "execute_result"
    }
   ],
   "source": [
    "df1['MaxTemp'].median()"
   ]
  },
  {
   "cell_type": "code",
   "execution_count": 25,
   "metadata": {},
   "outputs": [
    {
     "data": {
      "text/plain": [
       "0    24.7\n",
       "1    25.6\n",
       "dtype: float64"
      ]
     },
     "execution_count": 25,
     "metadata": {},
     "output_type": "execute_result"
    }
   ],
   "source": [
    "df1['MaxTemp'].mode()"
   ]
  },
  {
   "cell_type": "code",
   "execution_count": 15,
   "metadata": {},
   "outputs": [
    {
     "data": {
      "text/plain": [
       "<matplotlib.axes._subplots.AxesSubplot at 0x24df4819f08>"
      ]
     },
     "execution_count": 15,
     "metadata": {},
     "output_type": "execute_result"
    },
    {
     "data": {
      "image/png": "[encoded data removed]",
      "text/plain": [
       "<Figure size 432x288 with 1 Axes>"
      ]
     },
     "metadata": {
      "needs_background": "light"
     },
     "output_type": "display_data"
    }
   ],
   "source": [
    "sns.distplot(df1['Rainfall'])"
   ]
  },
  {
   "cell_type": "code",
   "execution_count": null,
   "metadata": {},
   "outputs": [],
   "source": []
  },
  {
   "cell_type": "code",
   "execution_count": 72,
   "metadata": {},
   "outputs": [
    {
     "data": {
      "text/plain": [
       "<matplotlib.axes._subplots.AxesSubplot at 0x2530a6b9a08>"
      ]
     },
     "execution_count": 72,
     "metadata": {},
     "output_type": "execute_result"
    },
    {
     "data": {
      "image/png": "[encoded data removed]",
      "text/plain": [
       "<Figure size 432x288 with 1 Axes>"
      ]
     },
     "metadata": {
      "needs_background": "light"
     },
     "output_type": "display_data"
    }
   ],
   "source": [
    "sns.distplot(df1['Evaporation'])"
   ]
  },
  {
   "cell_type": "code",
   "execution_count": 73,
   "metadata": {},
   "outputs": [
    {
     "data": {
      "text/plain": [
       "<matplotlib.axes._subplots.AxesSubplot at 0x2530cddd908>"
      ]
     },
     "execution_count": 73,
     "metadata": {},
     "output_type": "execute_result"
    },
    {
     "data": {
      "image/png": "[encoded data removed]",
      "text/plain": [
       "<Figure size 432x288 with 1 Axes>"
      ]
     },
     "metadata": {
      "needs_background": "light"
     },
     "output_type": "display_data"
    }
   ],
   "source": [
    "sns.distplot(df1['Sunshine'])"
   ]
  },
  {
   "cell_type": "code",
   "execution_count": 74,
   "metadata": {},
   "outputs": [
    {
     "data": {
      "text/plain": [
       "<matplotlib.axes._subplots.AxesSubplot at 0x2530b956648>"
      ]
     },
     "execution_count": 74,
     "metadata": {},
     "output_type": "execute_result"
    },
    {
     "data": {
      "image/png": "[encoded data removed]",
      "text/plain": [
       "<Figure size 432x288 with 1 Axes>"
      ]
     },
     "metadata": {
      "needs_background": "light"
     },
     "output_type": "display_data"
    }
   ],
   "source": [
    "sns.distplot(df1['WindGustDir'])"
   ]
  },
  {
   "cell_type": "code",
   "execution_count": 75,
   "metadata": {},
   "outputs": [
    {
     "data": {
      "text/plain": [
       "<matplotlib.axes._subplots.AxesSubplot at 0x2530cd8e508>"
      ]
     },
     "execution_count": 75,
     "metadata": {},
     "output_type": "execute_result"
    },
    {
     "data": {
      "image/png": "[encoded data removed]",
      "text/plain": [
       "<Figure size 432x288 with 1 Axes>"
      ]
     },
     "metadata": {
      "needs_background": "light"
     },
     "output_type": "display_data"
    }
   ],
   "source": [
    "sns.distplot(df1['WindGustSpeed'])"
   ]
  },
  {
   "cell_type": "code",
   "execution_count": 76,
   "metadata": {},
   "outputs": [
    {
     "data": {
      "text/plain": [
       "<matplotlib.axes._subplots.AxesSubplot at 0x2530cda1248>"
      ]
     },
     "execution_count": 76,
     "metadata": {},
     "output_type": "execute_result"
    },
    {
     "data": {
      "image/png": "[encoded data removed]",
      "text/plain": [
       "<Figure size 432x288 with 1 Axes>"
      ]
     },
     "metadata": {
      "needs_background": "light"
     },
     "output_type": "display_data"
    }
   ],
   "source": [
    "sns.distplot(df1['WindDir9am'])"
   ]
  },
  {
   "cell_type": "code",
   "execution_count": 77,
   "metadata": {},
   "outputs": [
    {
     "data": {
      "text/plain": [
       "<matplotlib.axes._subplots.AxesSubplot at 0x2530c43d848>"
      ]
     },
     "execution_count": 77,
     "metadata": {},
     "output_type": "execute_result"
    },
    {
     "data": {
      "image/png": "[encoded data removed]",
      "text/plain": [
       "<Figure size 432x288 with 1 Axes>"
      ]
     },
     "metadata": {
      "needs_background": "light"
     },
     "output_type": "display_data"
    }
   ],
   "source": [
    "sns.distplot(df1['WindDir3pm'])"
   ]
  },
  {
   "cell_type": "code",
   "execution_count": 78,
   "metadata": {},
   "outputs": [
    {
     "data": {
      "text/plain": [
       "<matplotlib.axes._subplots.AxesSubplot at 0x2530be9c308>"
      ]
     },
     "execution_count": 78,
     "metadata": {},
     "output_type": "execute_result"
    },
    {
     "data": {
      "image/png": "[encoded data removed]",
      "text/plain": [
       "<Figure size 432x288 with 1 Axes>"
      ]
     },
     "metadata": {
      "needs_background": "light"
     },
     "output_type": "display_data"
    }
   ],
   "source": [
    "sns.distplot(df1['WindSpeed9am'])"
   ]
  },
  {
   "cell_type": "code",
   "execution_count": 79,
   "metadata": {},
   "outputs": [
    {
     "data": {
      "text/plain": [
       "<matplotlib.axes._subplots.AxesSubplot at 0x2530c4f05c8>"
      ]
     },
     "execution_count": 79,
     "metadata": {},
     "output_type": "execute_result"
    },
    {
     "data": {
      "image/png": "[encoded data removed]",
      "text/plain": [
       "<Figure size 432x288 with 1 Axes>"
      ]
     },
     "metadata": {
      "needs_background": "light"
     },
     "output_type": "display_data"
    }
   ],
   "source": [
    "sns.distplot(df1['WindSpeed3pm'])"
   ]
  },
  {
   "cell_type": "code",
   "execution_count": 80,
   "metadata": {},
   "outputs": [
    {
     "data": {
      "text/plain": [
       "<matplotlib.axes._subplots.AxesSubplot at 0x2530b83b9c8>"
      ]
     },
     "execution_count": 80,
     "metadata": {},
     "output_type": "execute_result"
    },
    {
     "data": {
      "image/png": "[encoded data removed]",
      "text/plain": [
       "<Figure size 432x288 with 1 Axes>"
      ]
     },
     "metadata": {
      "needs_background": "light"
     },
     "output_type": "display_data"
    }
   ],
   "source": [
    "sns.distplot(df1['Humidity9am'])"
   ]
  },
  {
   "cell_type": "code",
   "execution_count": 26,
   "metadata": {},
   "outputs": [
    {
     "data": {
      "text/plain": [
       "63.58095458519776"
      ]
     },
     "execution_count": 26,
     "metadata": {},
     "output_type": "execute_result"
    }
   ],
   "source": [
    "df1['Humidity9am'].mean()"
   ]
  },
  {
   "cell_type": "code",
   "execution_count": 27,
   "metadata": {},
   "outputs": [
    {
     "data": {
      "text/plain": [
       "0    62\n",
       "dtype: int64"
      ]
     },
     "execution_count": 27,
     "metadata": {},
     "output_type": "execute_result"
    }
   ],
   "source": [
    "df1['Humidity9am'].mode()"
   ]
  },
  {
   "cell_type": "code",
   "execution_count": 29,
   "metadata": {},
   "outputs": [
    {
     "data": {
      "text/plain": [
       "64.0"
      ]
     },
     "execution_count": 29,
     "metadata": {},
     "output_type": "execute_result"
    }
   ],
   "source": [
    "df1['Humidity9am'].median()"
   ]
  },
  {
   "cell_type": "code",
   "execution_count": 81,
   "metadata": {},
   "outputs": [
    {
     "data": {
      "text/plain": [
       "<matplotlib.axes._subplots.AxesSubplot at 0x2530cc06f08>"
      ]
     },
     "execution_count": 81,
     "metadata": {},
     "output_type": "execute_result"
    },
    {
     "data": {
      "image/png": "[encoded data removed]",
      "text/plain": [
       "<Figure size 432x288 with 1 Axes>"
      ]
     },
     "metadata": {
      "needs_background": "light"
     },
     "output_type": "display_data"
    }
   ],
   "source": [
    "sns.distplot(df1['Humidity3pm'])"
   ]
  },
  {
   "cell_type": "code",
   "execution_count": 82,
   "metadata": {},
   "outputs": [
    {
     "data": {
      "text/plain": [
       "<matplotlib.axes._subplots.AxesSubplot at 0x2530c3bea48>"
      ]
     },
     "execution_count": 82,
     "metadata": {},
     "output_type": "execute_result"
    },
    {
     "data": {
      "image/png": "[encoded data removed]",
      "text/plain": [
       "<Figure size 432x288 with 1 Axes>"
      ]
     },
     "metadata": {
      "needs_background": "light"
     },
     "output_type": "display_data"
    }
   ],
   "source": [
    "sns.distplot(df1['Pressure9am'])"
   ]
  },
  {
   "cell_type": "code",
   "execution_count": 83,
   "metadata": {},
   "outputs": [
    {
     "data": {
      "text/plain": [
       "<matplotlib.axes._subplots.AxesSubplot at 0x2530330fc88>"
      ]
     },
     "execution_count": 83,
     "metadata": {},
     "output_type": "execute_result"
    },
    {
     "data": {
      "image/png": "[encoded data removed]",
      "text/plain": [
       "<Figure size 432x288 with 1 Axes>"
      ]
     },
     "metadata": {
      "needs_background": "light"
     },
     "output_type": "display_data"
    }
   ],
   "source": [
    "sns.distplot(df1['Pressure3pm'])"
   ]
  },
  {
   "cell_type": "code",
   "execution_count": 35,
   "metadata": {},
   "outputs": [
    {
     "data": {
      "text/plain": [
       "1015.0837242195055"
      ]
     },
     "execution_count": 35,
     "metadata": {},
     "output_type": "execute_result"
    }
   ],
   "source": [
    "df1['Pressure3pm'].mean()"
   ]
  },
  {
   "cell_type": "code",
   "execution_count": 36,
   "metadata": {},
   "outputs": [
    {
     "data": {
      "text/plain": [
       "0    1013.5\n",
       "1    1015.2\n",
       "dtype: float64"
      ]
     },
     "execution_count": 36,
     "metadata": {},
     "output_type": "execute_result"
    }
   ],
   "source": [
    "df1['Pressure3pm'].mode()"
   ]
  },
  {
   "cell_type": "code",
   "execution_count": 37,
   "metadata": {},
   "outputs": [
    {
     "data": {
      "text/plain": [
       "1015.0"
      ]
     },
     "execution_count": 37,
     "metadata": {},
     "output_type": "execute_result"
    }
   ],
   "source": [
    "df1['Pressure3pm'].median()"
   ]
  },
  {
   "cell_type": "code",
   "execution_count": 84,
   "metadata": {},
   "outputs": [
    {
     "data": {
      "text/plain": [
       "<matplotlib.axes._subplots.AxesSubplot at 0x253075e99c8>"
      ]
     },
     "execution_count": 84,
     "metadata": {},
     "output_type": "execute_result"
    },
    {
     "data": {
      "image/png": "[encoded data removed]",
      "text/plain": [
       "<Figure size 432x288 with 1 Axes>"
      ]
     },
     "metadata": {
      "needs_background": "light"
     },
     "output_type": "display_data"
    }
   ],
   "source": [
    "sns.distplot(df1['Cloud9am'])"
   ]
  },
  {
   "cell_type": "code",
   "execution_count": 85,
   "metadata": {},
   "outputs": [
    {
     "data": {
      "text/plain": [
       "<matplotlib.axes._subplots.AxesSubplot at 0x2530749ef08>"
      ]
     },
     "execution_count": 85,
     "metadata": {},
     "output_type": "execute_result"
    },
    {
     "data": {
      "image/png": "[encoded data removed]",
      "text/plain": [
       "<Figure size 432x288 with 1 Axes>"
      ]
     },
     "metadata": {
      "needs_background": "light"
     },
     "output_type": "display_data"
    }
   ],
   "source": [
    "sns.distplot(df1['Cloud3pm'])"
   ]
  },
  {
   "cell_type": "code",
   "execution_count": 86,
   "metadata": {},
   "outputs": [
    {
     "data": {
      "text/plain": [
       "<matplotlib.axes._subplots.AxesSubplot at 0x2530debd108>"
      ]
     },
     "execution_count": 86,
     "metadata": {},
     "output_type": "execute_result"
    },
    {
     "data": {
      "image/png": "[encoded data removed]",
      "text/plain": [
       "<Figure size 432x288 with 1 Axes>"
      ]
     },
     "metadata": {
      "needs_background": "light"
     },
     "output_type": "display_data"
    }
   ],
   "source": [
    "sns.distplot(df1['Temp9am'])"
   ]
  },
  {
   "cell_type": "code",
   "execution_count": 33,
   "metadata": {},
   "outputs": [
    {
     "data": {
      "text/plain": [
       "18.6095201357815"
      ]
     },
     "execution_count": 33,
     "metadata": {},
     "output_type": "execute_result"
    }
   ],
   "source": [
    "df1['Temp9am'].mean()"
   ]
  },
  {
   "cell_type": "code",
   "execution_count": 34,
   "metadata": {},
   "outputs": [
    {
     "data": {
      "text/plain": [
       "0    17.0\n",
       "dtype: float64"
      ]
     },
     "execution_count": 34,
     "metadata": {},
     "output_type": "execute_result"
    }
   ],
   "source": [
    "df1['Temp9am'].mode()"
   ]
  },
  {
   "cell_type": "code",
   "execution_count": null,
   "metadata": {},
   "outputs": [],
   "source": []
  },
  {
   "cell_type": "code",
   "execution_count": 87,
   "metadata": {},
   "outputs": [
    {
     "data": {
      "text/plain": [
       "<matplotlib.axes._subplots.AxesSubplot at 0x2530c0dca48>"
      ]
     },
     "execution_count": 87,
     "metadata": {},
     "output_type": "execute_result"
    },
    {
     "data": {
      "image/png": "[encoded data removed]",
      "text/plain": [
       "<Figure size 432x288 with 1 Axes>"
      ]
     },
     "metadata": {
      "needs_background": "light"
     },
     "output_type": "display_data"
    }
   ],
   "source": [
    "sns.distplot(df1['Temp3pm'])"
   ]
  },
  {
   "cell_type": "code",
   "execution_count": 30,
   "metadata": {},
   "outputs": [
    {
     "data": {
      "text/plain": [
       "23.501530113665456"
      ]
     },
     "execution_count": 30,
     "metadata": {},
     "output_type": "execute_result"
    }
   ],
   "source": [
    "df1['Temp3pm'].mean()"
   ]
  },
  {
   "cell_type": "code",
   "execution_count": 31,
   "metadata": {},
   "outputs": [
    {
     "data": {
      "text/plain": [
       "23.5"
      ]
     },
     "execution_count": 31,
     "metadata": {},
     "output_type": "execute_result"
    }
   ],
   "source": [
    "df1['Temp3pm'].median()"
   ]
  },
  {
   "cell_type": "code",
   "execution_count": 32,
   "metadata": {},
   "outputs": [
    {
     "data": {
      "text/plain": [
       "0    21.6\n",
       "dtype: float64"
      ]
     },
     "execution_count": 32,
     "metadata": {},
     "output_type": "execute_result"
    }
   ],
   "source": [
    "df1['Temp3pm'].mode()"
   ]
  },
  {
   "cell_type": "code",
   "execution_count": 88,
   "metadata": {},
   "outputs": [
    {
     "data": {
      "text/plain": [
       "<matplotlib.axes._subplots.AxesSubplot at 0x2530c0ee448>"
      ]
     },
     "execution_count": 88,
     "metadata": {},
     "output_type": "execute_result"
    },
    {
     "data": {
      "image/png": "[encoded data removed]",
      "text/plain": [
       "<Figure size 432x288 with 1 Axes>"
      ]
     },
     "metadata": {
      "needs_background": "light"
     },
     "output_type": "display_data"
    }
   ],
   "source": [
    "sns.distplot(df1['RainToday'])"
   ]
  },
  {
   "cell_type": "code",
   "execution_count": 89,
   "metadata": {},
   "outputs": [
    {
     "data": {
      "text/plain": [
       "<matplotlib.axes._subplots.AxesSubplot at 0x2530b664b48>"
      ]
     },
     "execution_count": 89,
     "metadata": {},
     "output_type": "execute_result"
    },
    {
     "data": {
      "image/png": "[encoded data removed]",
      "text/plain": [
       "<Figure size 432x288 with 1 Axes>"
      ]
     },
     "metadata": {
      "needs_background": "light"
     },
     "output_type": "display_data"
    }
   ],
   "source": [
    "sns.distplot(df1['RainTomorrow'])"
   ]
  },
  {
   "cell_type": "code",
   "execution_count": null,
   "metadata": {},
   "outputs": [],
   "source": []
  }
 ],
 "metadata": {
  "kernelspec": {
   "display_name": "Python 3",
   "language": "python",
   "name": "python3"
  },
  "language_info": {
   "codemirror_mode": {
    "name": "ipython",
    "version": 3
   },
   "file_extension": ".py",
   "mimetype": "text/x-python",
   "name": "python",
   "nbconvert_exporter": "python",
   "pygments_lexer": "ipython3",
   "version": "3.8.3"
  }
 },
 "nbformat": 4,
 "nbformat_minor": 2
}
