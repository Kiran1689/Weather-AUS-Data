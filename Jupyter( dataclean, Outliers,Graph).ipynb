{
 "cells": [
  {
   "cell_type": "code",
   "execution_count": 175,
   "metadata": {},
   "outputs": [],
   "source": [
    "import pandas as pd\n",
    "import numpy as np\n",
    "import matplotlib.pyplot as pl\n",
    "import seaborn as sns\n",
    "from sklearn.preprocessing import StandardScaler\n",
    "import math\n",
    "from sklearn.preprocessing import LabelEncoder, LabelBinarizer\n",
    "import warnings\n",
    "warnings.filterwarnings(\"ignore\")\n"
   ]
  },
  {
   "cell_type": "code",
   "execution_count": 176,
   "metadata": {},
   "outputs": [
    {
     "name": "stdout",
     "output_type": "stream",
     "text": [
      "Total no of points =142193\n"
     ]
    },
    {
     "data": {
      "text/html": [
       "<div>\n",
       "<style scoped>\n",
       "    .dataframe tbody tr th:only-of-type {\n",
       "        vertical-align: middle;\n",
       "    }\n",
       "\n",
       "    .dataframe tbody tr th {\n",
       "        vertical-align: top;\n",
       "    }\n",
       "\n",
       "    .dataframe thead th {\n",
       "        text-align: right;\n",
       "    }\n",
       "</style>\n",
       "<table border=\"1\" class=\"dataframe\">\n",
       "  <thead>\n",
       "    <tr style=\"text-align: right;\">\n",
       "      <th></th>\n",
       "      <th>Date</th>\n",
       "      <th>Location</th>\n",
       "      <th>MinTemp</th>\n",
       "      <th>MaxTemp</th>\n",
       "      <th>Rainfall</th>\n",
       "      <th>Evaporation</th>\n",
       "      <th>Sunshine</th>\n",
       "      <th>WindGustDir</th>\n",
       "      <th>WindGustSpeed</th>\n",
       "      <th>WindDir9am</th>\n",
       "      <th>...</th>\n",
       "      <th>Humidity3pm</th>\n",
       "      <th>Pressure9am</th>\n",
       "      <th>Pressure3pm</th>\n",
       "      <th>Cloud9am</th>\n",
       "      <th>Cloud3pm</th>\n",
       "      <th>Temp9am</th>\n",
       "      <th>Temp3pm</th>\n",
       "      <th>RainToday</th>\n",
       "      <th>RISK_MM</th>\n",
       "      <th>RainTomorrow</th>\n",
       "    </tr>\n",
       "  </thead>\n",
       "  <tbody>\n",
       "    <tr>\n",
       "      <th>0</th>\n",
       "      <td>01-12-2008</td>\n",
       "      <td>Albury</td>\n",
       "      <td>13.4</td>\n",
       "      <td>22.9</td>\n",
       "      <td>0.6</td>\n",
       "      <td>NaN</td>\n",
       "      <td>NaN</td>\n",
       "      <td>W</td>\n",
       "      <td>44.0</td>\n",
       "      <td>W</td>\n",
       "      <td>...</td>\n",
       "      <td>22.0</td>\n",
       "      <td>1007.7</td>\n",
       "      <td>1007.1</td>\n",
       "      <td>8.0</td>\n",
       "      <td>NaN</td>\n",
       "      <td>16.9</td>\n",
       "      <td>21.8</td>\n",
       "      <td>No</td>\n",
       "      <td>0.0</td>\n",
       "      <td>No</td>\n",
       "    </tr>\n",
       "    <tr>\n",
       "      <th>1</th>\n",
       "      <td>02-12-2008</td>\n",
       "      <td>Albury</td>\n",
       "      <td>7.4</td>\n",
       "      <td>25.1</td>\n",
       "      <td>0.0</td>\n",
       "      <td>NaN</td>\n",
       "      <td>NaN</td>\n",
       "      <td>WNW</td>\n",
       "      <td>44.0</td>\n",
       "      <td>NNW</td>\n",
       "      <td>...</td>\n",
       "      <td>25.0</td>\n",
       "      <td>1010.6</td>\n",
       "      <td>1007.8</td>\n",
       "      <td>NaN</td>\n",
       "      <td>NaN</td>\n",
       "      <td>17.2</td>\n",
       "      <td>24.3</td>\n",
       "      <td>No</td>\n",
       "      <td>0.0</td>\n",
       "      <td>No</td>\n",
       "    </tr>\n",
       "    <tr>\n",
       "      <th>2</th>\n",
       "      <td>03-12-2008</td>\n",
       "      <td>Albury</td>\n",
       "      <td>12.9</td>\n",
       "      <td>25.7</td>\n",
       "      <td>0.0</td>\n",
       "      <td>NaN</td>\n",
       "      <td>NaN</td>\n",
       "      <td>WSW</td>\n",
       "      <td>46.0</td>\n",
       "      <td>W</td>\n",
       "      <td>...</td>\n",
       "      <td>30.0</td>\n",
       "      <td>1007.6</td>\n",
       "      <td>1008.7</td>\n",
       "      <td>NaN</td>\n",
       "      <td>2.0</td>\n",
       "      <td>21.0</td>\n",
       "      <td>23.2</td>\n",
       "      <td>No</td>\n",
       "      <td>0.0</td>\n",
       "      <td>No</td>\n",
       "    </tr>\n",
       "    <tr>\n",
       "      <th>3</th>\n",
       "      <td>04-12-2008</td>\n",
       "      <td>Albury</td>\n",
       "      <td>9.2</td>\n",
       "      <td>28.0</td>\n",
       "      <td>0.0</td>\n",
       "      <td>NaN</td>\n",
       "      <td>NaN</td>\n",
       "      <td>NE</td>\n",
       "      <td>24.0</td>\n",
       "      <td>SE</td>\n",
       "      <td>...</td>\n",
       "      <td>16.0</td>\n",
       "      <td>1017.6</td>\n",
       "      <td>1012.8</td>\n",
       "      <td>NaN</td>\n",
       "      <td>NaN</td>\n",
       "      <td>18.1</td>\n",
       "      <td>26.5</td>\n",
       "      <td>No</td>\n",
       "      <td>1.0</td>\n",
       "      <td>No</td>\n",
       "    </tr>\n",
       "    <tr>\n",
       "      <th>4</th>\n",
       "      <td>05-12-2008</td>\n",
       "      <td>Albury</td>\n",
       "      <td>17.5</td>\n",
       "      <td>32.3</td>\n",
       "      <td>1.0</td>\n",
       "      <td>NaN</td>\n",
       "      <td>NaN</td>\n",
       "      <td>W</td>\n",
       "      <td>41.0</td>\n",
       "      <td>ENE</td>\n",
       "      <td>...</td>\n",
       "      <td>33.0</td>\n",
       "      <td>1010.8</td>\n",
       "      <td>1006.0</td>\n",
       "      <td>7.0</td>\n",
       "      <td>8.0</td>\n",
       "      <td>17.8</td>\n",
       "      <td>29.7</td>\n",
       "      <td>No</td>\n",
       "      <td>0.2</td>\n",
       "      <td>No</td>\n",
       "    </tr>\n",
       "    <tr>\n",
       "      <th>...</th>\n",
       "      <td>...</td>\n",
       "      <td>...</td>\n",
       "      <td>...</td>\n",
       "      <td>...</td>\n",
       "      <td>...</td>\n",
       "      <td>...</td>\n",
       "      <td>...</td>\n",
       "      <td>...</td>\n",
       "      <td>...</td>\n",
       "      <td>...</td>\n",
       "      <td>...</td>\n",
       "      <td>...</td>\n",
       "      <td>...</td>\n",
       "      <td>...</td>\n",
       "      <td>...</td>\n",
       "      <td>...</td>\n",
       "      <td>...</td>\n",
       "      <td>...</td>\n",
       "      <td>...</td>\n",
       "      <td>...</td>\n",
       "      <td>...</td>\n",
       "    </tr>\n",
       "    <tr>\n",
       "      <th>142188</th>\n",
       "      <td>20-06-2017</td>\n",
       "      <td>Uluru</td>\n",
       "      <td>3.5</td>\n",
       "      <td>21.8</td>\n",
       "      <td>0.0</td>\n",
       "      <td>NaN</td>\n",
       "      <td>NaN</td>\n",
       "      <td>E</td>\n",
       "      <td>31.0</td>\n",
       "      <td>ESE</td>\n",
       "      <td>...</td>\n",
       "      <td>27.0</td>\n",
       "      <td>1024.7</td>\n",
       "      <td>1021.2</td>\n",
       "      <td>NaN</td>\n",
       "      <td>NaN</td>\n",
       "      <td>9.4</td>\n",
       "      <td>20.9</td>\n",
       "      <td>No</td>\n",
       "      <td>0.0</td>\n",
       "      <td>No</td>\n",
       "    </tr>\n",
       "    <tr>\n",
       "      <th>142189</th>\n",
       "      <td>21-06-2017</td>\n",
       "      <td>Uluru</td>\n",
       "      <td>2.8</td>\n",
       "      <td>23.4</td>\n",
       "      <td>0.0</td>\n",
       "      <td>NaN</td>\n",
       "      <td>NaN</td>\n",
       "      <td>E</td>\n",
       "      <td>31.0</td>\n",
       "      <td>SE</td>\n",
       "      <td>...</td>\n",
       "      <td>24.0</td>\n",
       "      <td>1024.6</td>\n",
       "      <td>1020.3</td>\n",
       "      <td>NaN</td>\n",
       "      <td>NaN</td>\n",
       "      <td>10.1</td>\n",
       "      <td>22.4</td>\n",
       "      <td>No</td>\n",
       "      <td>0.0</td>\n",
       "      <td>No</td>\n",
       "    </tr>\n",
       "    <tr>\n",
       "      <th>142190</th>\n",
       "      <td>22-06-2017</td>\n",
       "      <td>Uluru</td>\n",
       "      <td>3.6</td>\n",
       "      <td>25.3</td>\n",
       "      <td>0.0</td>\n",
       "      <td>NaN</td>\n",
       "      <td>NaN</td>\n",
       "      <td>NNW</td>\n",
       "      <td>22.0</td>\n",
       "      <td>SE</td>\n",
       "      <td>...</td>\n",
       "      <td>21.0</td>\n",
       "      <td>1023.5</td>\n",
       "      <td>1019.1</td>\n",
       "      <td>NaN</td>\n",
       "      <td>NaN</td>\n",
       "      <td>10.9</td>\n",
       "      <td>24.5</td>\n",
       "      <td>No</td>\n",
       "      <td>0.0</td>\n",
       "      <td>No</td>\n",
       "    </tr>\n",
       "    <tr>\n",
       "      <th>142191</th>\n",
       "      <td>23-06-2017</td>\n",
       "      <td>Uluru</td>\n",
       "      <td>5.4</td>\n",
       "      <td>26.9</td>\n",
       "      <td>0.0</td>\n",
       "      <td>NaN</td>\n",
       "      <td>NaN</td>\n",
       "      <td>N</td>\n",
       "      <td>37.0</td>\n",
       "      <td>SE</td>\n",
       "      <td>...</td>\n",
       "      <td>24.0</td>\n",
       "      <td>1021.0</td>\n",
       "      <td>1016.8</td>\n",
       "      <td>NaN</td>\n",
       "      <td>NaN</td>\n",
       "      <td>12.5</td>\n",
       "      <td>26.1</td>\n",
       "      <td>No</td>\n",
       "      <td>0.0</td>\n",
       "      <td>No</td>\n",
       "    </tr>\n",
       "    <tr>\n",
       "      <th>142192</th>\n",
       "      <td>24-06-2017</td>\n",
       "      <td>Uluru</td>\n",
       "      <td>7.8</td>\n",
       "      <td>27.0</td>\n",
       "      <td>0.0</td>\n",
       "      <td>NaN</td>\n",
       "      <td>NaN</td>\n",
       "      <td>SE</td>\n",
       "      <td>28.0</td>\n",
       "      <td>SSE</td>\n",
       "      <td>...</td>\n",
       "      <td>24.0</td>\n",
       "      <td>1019.4</td>\n",
       "      <td>1016.5</td>\n",
       "      <td>3.0</td>\n",
       "      <td>2.0</td>\n",
       "      <td>15.1</td>\n",
       "      <td>26.0</td>\n",
       "      <td>No</td>\n",
       "      <td>0.0</td>\n",
       "      <td>No</td>\n",
       "    </tr>\n",
       "  </tbody>\n",
       "</table>\n",
       "<p>142193 rows × 24 columns</p>\n",
       "</div>"
      ],
      "text/plain": [
       "              Date Location  MinTemp  MaxTemp  Rainfall  Evaporation  \\\n",
       "0       01-12-2008   Albury     13.4     22.9       0.6          NaN   \n",
       "1       02-12-2008   Albury      7.4     25.1       0.0          NaN   \n",
       "2       03-12-2008   Albury     12.9     25.7       0.0          NaN   \n",
       "3       04-12-2008   Albury      9.2     28.0       0.0          NaN   \n",
       "4       05-12-2008   Albury     17.5     32.3       1.0          NaN   \n",
       "...            ...      ...      ...      ...       ...          ...   \n",
       "142188  20-06-2017    Uluru      3.5     21.8       0.0          NaN   \n",
       "142189  21-06-2017    Uluru      2.8     23.4       0.0          NaN   \n",
       "142190  22-06-2017    Uluru      3.6     25.3       0.0          NaN   \n",
       "142191  23-06-2017    Uluru      5.4     26.9       0.0          NaN   \n",
       "142192  24-06-2017    Uluru      7.8     27.0       0.0          NaN   \n",
       "\n",
       "        Sunshine WindGustDir  WindGustSpeed WindDir9am  ... Humidity3pm  \\\n",
       "0            NaN           W           44.0          W  ...        22.0   \n",
       "1            NaN         WNW           44.0        NNW  ...        25.0   \n",
       "2            NaN         WSW           46.0          W  ...        30.0   \n",
       "3            NaN          NE           24.0         SE  ...        16.0   \n",
       "4            NaN           W           41.0        ENE  ...        33.0   \n",
       "...          ...         ...            ...        ...  ...         ...   \n",
       "142188       NaN           E           31.0        ESE  ...        27.0   \n",
       "142189       NaN           E           31.0         SE  ...        24.0   \n",
       "142190       NaN         NNW           22.0         SE  ...        21.0   \n",
       "142191       NaN           N           37.0         SE  ...        24.0   \n",
       "142192       NaN          SE           28.0        SSE  ...        24.0   \n",
       "\n",
       "        Pressure9am  Pressure3pm  Cloud9am  Cloud3pm  Temp9am  Temp3pm  \\\n",
       "0            1007.7       1007.1       8.0       NaN     16.9     21.8   \n",
       "1            1010.6       1007.8       NaN       NaN     17.2     24.3   \n",
       "2            1007.6       1008.7       NaN       2.0     21.0     23.2   \n",
       "3            1017.6       1012.8       NaN       NaN     18.1     26.5   \n",
       "4            1010.8       1006.0       7.0       8.0     17.8     29.7   \n",
       "...             ...          ...       ...       ...      ...      ...   \n",
       "142188       1024.7       1021.2       NaN       NaN      9.4     20.9   \n",
       "142189       1024.6       1020.3       NaN       NaN     10.1     22.4   \n",
       "142190       1023.5       1019.1       NaN       NaN     10.9     24.5   \n",
       "142191       1021.0       1016.8       NaN       NaN     12.5     26.1   \n",
       "142192       1019.4       1016.5       3.0       2.0     15.1     26.0   \n",
       "\n",
       "        RainToday  RISK_MM  RainTomorrow  \n",
       "0              No      0.0            No  \n",
       "1              No      0.0            No  \n",
       "2              No      0.0            No  \n",
       "3              No      1.0            No  \n",
       "4              No      0.2            No  \n",
       "...           ...      ...           ...  \n",
       "142188         No      0.0            No  \n",
       "142189         No      0.0            No  \n",
       "142190         No      0.0            No  \n",
       "142191         No      0.0            No  \n",
       "142192         No      0.0            No  \n",
       "\n",
       "[142193 rows x 24 columns]"
      ]
     },
     "execution_count": 176,
     "metadata": {},
     "output_type": "execute_result"
    }
   ],
   "source": [
    "data=pd.read_csv('Desktop\\weatherAUS.csv')\n",
    "print(\"Total no of points ={}\".format(data.shape[0]))\n",
    "data"
   ]
  },
  {
   "cell_type": "code",
   "execution_count": 177,
   "metadata": {},
   "outputs": [
    {
     "data": {
      "text/plain": [
       "Date                 0\n",
       "Location             0\n",
       "MinTemp            637\n",
       "MaxTemp            322\n",
       "Rainfall          1406\n",
       "Evaporation      60843\n",
       "Sunshine         67816\n",
       "WindGustDir       9330\n",
       "WindGustSpeed     9270\n",
       "WindDir9am       10013\n",
       "WindDir3pm        3778\n",
       "WindSpeed9am      1348\n",
       "WindSpeed3pm      2630\n",
       "Humidity9am       1774\n",
       "Humidity3pm       3610\n",
       "Pressure9am      14014\n",
       "Pressure3pm      13981\n",
       "Cloud9am         53657\n",
       "Cloud3pm         57094\n",
       "Temp9am            904\n",
       "Temp3pm           2726\n",
       "RainToday         1406\n",
       "RISK_MM              0\n",
       "RainTomorrow         0\n",
       "dtype: int64"
      ]
     },
     "execution_count": 177,
     "metadata": {},
     "output_type": "execute_result"
    }
   ],
   "source": [
    "data.isnull().sum()"
   ]
  },
  {
   "cell_type": "code",
   "execution_count": 178,
   "metadata": {},
   "outputs": [],
   "source": [
    "#For Temparatures we cannot replace NaN values with 0, hence replacing NaN with its respective mode value\n",
    "data['MinTemp'].fillna(value=data['MinTemp'].mode()[0],inplace=True )\n",
    "data['MaxTemp'].fillna(value=data['MaxTemp'].mode()[0],inplace=True )\n",
    "data['Temp9am'].fillna(value=data['Temp9am'].mode()[0],inplace=True )\n",
    "data['Temp3pm'].fillna(value=data['Temp3pm'].mode()[0],inplace=True )\n"
   ]
  },
  {
   "cell_type": "code",
   "execution_count": 179,
   "metadata": {},
   "outputs": [
    {
     "data": {
      "text/plain": [
       "9.6"
      ]
     },
     "execution_count": 179,
     "metadata": {},
     "output_type": "execute_result"
    }
   ],
   "source": [
    "data['MinTemp'].mode()[0]"
   ]
  },
  {
   "cell_type": "code",
   "execution_count": 180,
   "metadata": {},
   "outputs": [
    {
     "data": {
      "text/plain": [
       "20.0"
      ]
     },
     "execution_count": 180,
     "metadata": {},
     "output_type": "execute_result"
    }
   ],
   "source": [
    "data['MaxTemp'].mode()[0]"
   ]
  },
  {
   "cell_type": "code",
   "execution_count": 181,
   "metadata": {},
   "outputs": [
    {
     "data": {
      "text/plain": [
       "17.0"
      ]
     },
     "execution_count": 181,
     "metadata": {},
     "output_type": "execute_result"
    }
   ],
   "source": [
    "data['Temp9am'].mode()[0]"
   ]
  },
  {
   "cell_type": "code",
   "execution_count": 182,
   "metadata": {},
   "outputs": [
    {
     "data": {
      "text/plain": [
       "20.0"
      ]
     },
     "execution_count": 182,
     "metadata": {},
     "output_type": "execute_result"
    }
   ],
   "source": [
    "data['Temp3pm'].mode()[0]"
   ]
  },
  {
   "cell_type": "code",
   "execution_count": 183,
   "metadata": {},
   "outputs": [],
   "source": [
    "data['Humidity9am'].fillna(value=data['Humidity9am'].mode()[0], inplace=True )\n",
    "data['Humidity3pm'].fillna(value=data['Humidity3pm'].mode()[0], inplace=True )"
   ]
  },
  {
   "cell_type": "code",
   "execution_count": 184,
   "metadata": {},
   "outputs": [
    {
     "data": {
      "text/plain": [
       "99.0"
      ]
     },
     "execution_count": 184,
     "metadata": {},
     "output_type": "execute_result"
    }
   ],
   "source": [
    "data['Humidity9am'].mode()[0]"
   ]
  },
  {
   "cell_type": "code",
   "execution_count": 185,
   "metadata": {},
   "outputs": [
    {
     "data": {
      "text/plain": [
       "52.0"
      ]
     },
     "execution_count": 185,
     "metadata": {},
     "output_type": "execute_result"
    }
   ],
   "source": [
    "data['Humidity3pm'].mode()[0]"
   ]
  },
  {
   "cell_type": "code",
   "execution_count": 186,
   "metadata": {},
   "outputs": [],
   "source": [
    "data['Rainfall'].fillna(value=0.0, inplace=True)"
   ]
  },
  {
   "cell_type": "code",
   "execution_count": 187,
   "metadata": {},
   "outputs": [],
   "source": [
    "data['Pressure9am'].fillna(value=data['Pressure9am'].median(), inplace=True )\n",
    "data['Pressure3pm'].fillna(value=data['Pressure3pm'].median(), inplace=True )\n",
    "data['WindGustSpeed'].fillna(value=data['WindGustSpeed'].median(), inplace=True )\n",
    "data['WindSpeed9am'].fillna(value=data['WindSpeed9am'].median(), inplace=True )\n",
    "data['WindSpeed3pm'].fillna(value=data['WindSpeed3pm'].median(), inplace=True )\n"
   ]
  },
  {
   "cell_type": "code",
   "execution_count": 188,
   "metadata": {},
   "outputs": [
    {
     "data": {
      "text/plain": [
       "1017.6"
      ]
     },
     "execution_count": 188,
     "metadata": {},
     "output_type": "execute_result"
    }
   ],
   "source": [
    "data['Pressure9am'].median()"
   ]
  },
  {
   "cell_type": "code",
   "execution_count": 189,
   "metadata": {},
   "outputs": [
    {
     "data": {
      "text/plain": [
       "1015.2"
      ]
     },
     "execution_count": 189,
     "metadata": {},
     "output_type": "execute_result"
    }
   ],
   "source": [
    "data['Pressure3pm'].median()"
   ]
  },
  {
   "cell_type": "code",
   "execution_count": 190,
   "metadata": {},
   "outputs": [
    {
     "data": {
      "text/plain": [
       "39.0"
      ]
     },
     "execution_count": 190,
     "metadata": {},
     "output_type": "execute_result"
    }
   ],
   "source": [
    "data['WindGustSpeed'].median()"
   ]
  },
  {
   "cell_type": "code",
   "execution_count": 191,
   "metadata": {},
   "outputs": [
    {
     "data": {
      "text/plain": [
       "13.0"
      ]
     },
     "execution_count": 191,
     "metadata": {},
     "output_type": "execute_result"
    }
   ],
   "source": [
    "data['WindSpeed9am'].median()"
   ]
  },
  {
   "cell_type": "code",
   "execution_count": 192,
   "metadata": {},
   "outputs": [
    {
     "data": {
      "text/plain": [
       "19.0"
      ]
     },
     "execution_count": 192,
     "metadata": {},
     "output_type": "execute_result"
    }
   ],
   "source": [
    "data['WindSpeed3pm'].median()"
   ]
  },
  {
   "cell_type": "code",
   "execution_count": 193,
   "metadata": {},
   "outputs": [],
   "source": [
    "# For RainToday feature we cannot fill any value, so better to remove the NaN values \n",
    "data.dropna(inplace=True)"
   ]
  },
  {
   "cell_type": "code",
   "execution_count": 194,
   "metadata": {},
   "outputs": [
    {
     "data": {
      "text/html": [
       "<div>\n",
       "<style scoped>\n",
       "    .dataframe tbody tr th:only-of-type {\n",
       "        vertical-align: middle;\n",
       "    }\n",
       "\n",
       "    .dataframe tbody tr th {\n",
       "        vertical-align: top;\n",
       "    }\n",
       "\n",
       "    .dataframe thead th {\n",
       "        text-align: right;\n",
       "    }\n",
       "</style>\n",
       "<table border=\"1\" class=\"dataframe\">\n",
       "  <thead>\n",
       "    <tr style=\"text-align: right;\">\n",
       "      <th></th>\n",
       "      <th>Date</th>\n",
       "      <th>Location</th>\n",
       "      <th>MinTemp</th>\n",
       "      <th>MaxTemp</th>\n",
       "      <th>Rainfall</th>\n",
       "      <th>Evaporation</th>\n",
       "      <th>Sunshine</th>\n",
       "      <th>WindGustDir</th>\n",
       "      <th>WindGustSpeed</th>\n",
       "      <th>WindDir9am</th>\n",
       "      <th>...</th>\n",
       "      <th>Humidity3pm</th>\n",
       "      <th>Pressure9am</th>\n",
       "      <th>Pressure3pm</th>\n",
       "      <th>Cloud9am</th>\n",
       "      <th>Cloud3pm</th>\n",
       "      <th>Temp9am</th>\n",
       "      <th>Temp3pm</th>\n",
       "      <th>RainToday</th>\n",
       "      <th>RISK_MM</th>\n",
       "      <th>RainTomorrow</th>\n",
       "    </tr>\n",
       "  </thead>\n",
       "  <tbody>\n",
       "    <tr>\n",
       "      <th>5939</th>\n",
       "      <td>01-01-2009</td>\n",
       "      <td>Cobar</td>\n",
       "      <td>17.9</td>\n",
       "      <td>35.2</td>\n",
       "      <td>0.0</td>\n",
       "      <td>12.0</td>\n",
       "      <td>12.3</td>\n",
       "      <td>SSW</td>\n",
       "      <td>48.0</td>\n",
       "      <td>ENE</td>\n",
       "      <td>...</td>\n",
       "      <td>13.0</td>\n",
       "      <td>1006.3</td>\n",
       "      <td>1004.4</td>\n",
       "      <td>2.0</td>\n",
       "      <td>5.0</td>\n",
       "      <td>26.6</td>\n",
       "      <td>33.4</td>\n",
       "      <td>No</td>\n",
       "      <td>0.0</td>\n",
       "      <td>No</td>\n",
       "    </tr>\n",
       "    <tr>\n",
       "      <th>5940</th>\n",
       "      <td>02-01-2009</td>\n",
       "      <td>Cobar</td>\n",
       "      <td>18.4</td>\n",
       "      <td>28.9</td>\n",
       "      <td>0.0</td>\n",
       "      <td>14.8</td>\n",
       "      <td>13.0</td>\n",
       "      <td>S</td>\n",
       "      <td>37.0</td>\n",
       "      <td>SSE</td>\n",
       "      <td>...</td>\n",
       "      <td>8.0</td>\n",
       "      <td>1012.9</td>\n",
       "      <td>1012.1</td>\n",
       "      <td>1.0</td>\n",
       "      <td>1.0</td>\n",
       "      <td>20.3</td>\n",
       "      <td>27.0</td>\n",
       "      <td>No</td>\n",
       "      <td>0.0</td>\n",
       "      <td>No</td>\n",
       "    </tr>\n",
       "    <tr>\n",
       "      <th>5942</th>\n",
       "      <td>04-01-2009</td>\n",
       "      <td>Cobar</td>\n",
       "      <td>19.4</td>\n",
       "      <td>37.6</td>\n",
       "      <td>0.0</td>\n",
       "      <td>10.8</td>\n",
       "      <td>10.6</td>\n",
       "      <td>NNE</td>\n",
       "      <td>46.0</td>\n",
       "      <td>NNE</td>\n",
       "      <td>...</td>\n",
       "      <td>22.0</td>\n",
       "      <td>1012.3</td>\n",
       "      <td>1009.2</td>\n",
       "      <td>1.0</td>\n",
       "      <td>6.0</td>\n",
       "      <td>28.7</td>\n",
       "      <td>34.9</td>\n",
       "      <td>No</td>\n",
       "      <td>0.0</td>\n",
       "      <td>No</td>\n",
       "    </tr>\n",
       "    <tr>\n",
       "      <th>5943</th>\n",
       "      <td>05-01-2009</td>\n",
       "      <td>Cobar</td>\n",
       "      <td>21.9</td>\n",
       "      <td>38.4</td>\n",
       "      <td>0.0</td>\n",
       "      <td>11.4</td>\n",
       "      <td>12.2</td>\n",
       "      <td>WNW</td>\n",
       "      <td>31.0</td>\n",
       "      <td>WNW</td>\n",
       "      <td>...</td>\n",
       "      <td>22.0</td>\n",
       "      <td>1012.7</td>\n",
       "      <td>1009.1</td>\n",
       "      <td>1.0</td>\n",
       "      <td>5.0</td>\n",
       "      <td>29.1</td>\n",
       "      <td>35.6</td>\n",
       "      <td>No</td>\n",
       "      <td>0.0</td>\n",
       "      <td>No</td>\n",
       "    </tr>\n",
       "    <tr>\n",
       "      <th>5944</th>\n",
       "      <td>06-01-2009</td>\n",
       "      <td>Cobar</td>\n",
       "      <td>24.2</td>\n",
       "      <td>41.0</td>\n",
       "      <td>0.0</td>\n",
       "      <td>11.2</td>\n",
       "      <td>8.4</td>\n",
       "      <td>WNW</td>\n",
       "      <td>35.0</td>\n",
       "      <td>NW</td>\n",
       "      <td>...</td>\n",
       "      <td>15.0</td>\n",
       "      <td>1010.7</td>\n",
       "      <td>1007.4</td>\n",
       "      <td>1.0</td>\n",
       "      <td>6.0</td>\n",
       "      <td>33.6</td>\n",
       "      <td>37.6</td>\n",
       "      <td>No</td>\n",
       "      <td>0.0</td>\n",
       "      <td>No</td>\n",
       "    </tr>\n",
       "    <tr>\n",
       "      <th>...</th>\n",
       "      <td>...</td>\n",
       "      <td>...</td>\n",
       "      <td>...</td>\n",
       "      <td>...</td>\n",
       "      <td>...</td>\n",
       "      <td>...</td>\n",
       "      <td>...</td>\n",
       "      <td>...</td>\n",
       "      <td>...</td>\n",
       "      <td>...</td>\n",
       "      <td>...</td>\n",
       "      <td>...</td>\n",
       "      <td>...</td>\n",
       "      <td>...</td>\n",
       "      <td>...</td>\n",
       "      <td>...</td>\n",
       "      <td>...</td>\n",
       "      <td>...</td>\n",
       "      <td>...</td>\n",
       "      <td>...</td>\n",
       "      <td>...</td>\n",
       "    </tr>\n",
       "    <tr>\n",
       "      <th>139108</th>\n",
       "      <td>20-06-2017</td>\n",
       "      <td>Darwin</td>\n",
       "      <td>19.3</td>\n",
       "      <td>33.4</td>\n",
       "      <td>0.0</td>\n",
       "      <td>6.0</td>\n",
       "      <td>11.0</td>\n",
       "      <td>ENE</td>\n",
       "      <td>35.0</td>\n",
       "      <td>SE</td>\n",
       "      <td>...</td>\n",
       "      <td>32.0</td>\n",
       "      <td>1013.9</td>\n",
       "      <td>1010.5</td>\n",
       "      <td>0.0</td>\n",
       "      <td>1.0</td>\n",
       "      <td>24.5</td>\n",
       "      <td>32.3</td>\n",
       "      <td>No</td>\n",
       "      <td>0.0</td>\n",
       "      <td>No</td>\n",
       "    </tr>\n",
       "    <tr>\n",
       "      <th>139109</th>\n",
       "      <td>21-06-2017</td>\n",
       "      <td>Darwin</td>\n",
       "      <td>21.2</td>\n",
       "      <td>32.6</td>\n",
       "      <td>0.0</td>\n",
       "      <td>7.6</td>\n",
       "      <td>8.6</td>\n",
       "      <td>E</td>\n",
       "      <td>37.0</td>\n",
       "      <td>SE</td>\n",
       "      <td>...</td>\n",
       "      <td>28.0</td>\n",
       "      <td>1014.6</td>\n",
       "      <td>1011.2</td>\n",
       "      <td>7.0</td>\n",
       "      <td>0.0</td>\n",
       "      <td>24.8</td>\n",
       "      <td>32.0</td>\n",
       "      <td>No</td>\n",
       "      <td>0.0</td>\n",
       "      <td>No</td>\n",
       "    </tr>\n",
       "    <tr>\n",
       "      <th>139110</th>\n",
       "      <td>22-06-2017</td>\n",
       "      <td>Darwin</td>\n",
       "      <td>20.7</td>\n",
       "      <td>32.8</td>\n",
       "      <td>0.0</td>\n",
       "      <td>5.6</td>\n",
       "      <td>11.0</td>\n",
       "      <td>E</td>\n",
       "      <td>33.0</td>\n",
       "      <td>E</td>\n",
       "      <td>...</td>\n",
       "      <td>23.0</td>\n",
       "      <td>1015.3</td>\n",
       "      <td>1011.8</td>\n",
       "      <td>0.0</td>\n",
       "      <td>0.0</td>\n",
       "      <td>24.8</td>\n",
       "      <td>32.1</td>\n",
       "      <td>No</td>\n",
       "      <td>0.0</td>\n",
       "      <td>No</td>\n",
       "    </tr>\n",
       "    <tr>\n",
       "      <th>139111</th>\n",
       "      <td>23-06-2017</td>\n",
       "      <td>Darwin</td>\n",
       "      <td>19.5</td>\n",
       "      <td>31.8</td>\n",
       "      <td>0.0</td>\n",
       "      <td>6.2</td>\n",
       "      <td>10.6</td>\n",
       "      <td>ESE</td>\n",
       "      <td>26.0</td>\n",
       "      <td>SE</td>\n",
       "      <td>...</td>\n",
       "      <td>58.0</td>\n",
       "      <td>1014.9</td>\n",
       "      <td>1010.7</td>\n",
       "      <td>1.0</td>\n",
       "      <td>1.0</td>\n",
       "      <td>24.8</td>\n",
       "      <td>29.2</td>\n",
       "      <td>No</td>\n",
       "      <td>0.0</td>\n",
       "      <td>No</td>\n",
       "    </tr>\n",
       "    <tr>\n",
       "      <th>139112</th>\n",
       "      <td>24-06-2017</td>\n",
       "      <td>Darwin</td>\n",
       "      <td>20.2</td>\n",
       "      <td>31.7</td>\n",
       "      <td>0.0</td>\n",
       "      <td>5.6</td>\n",
       "      <td>10.7</td>\n",
       "      <td>ENE</td>\n",
       "      <td>30.0</td>\n",
       "      <td>ENE</td>\n",
       "      <td>...</td>\n",
       "      <td>32.0</td>\n",
       "      <td>1013.9</td>\n",
       "      <td>1009.7</td>\n",
       "      <td>6.0</td>\n",
       "      <td>5.0</td>\n",
       "      <td>25.4</td>\n",
       "      <td>31.0</td>\n",
       "      <td>No</td>\n",
       "      <td>0.0</td>\n",
       "      <td>No</td>\n",
       "    </tr>\n",
       "  </tbody>\n",
       "</table>\n",
       "<p>56669 rows × 24 columns</p>\n",
       "</div>"
      ],
      "text/plain": [
       "              Date Location  MinTemp  MaxTemp  Rainfall  Evaporation  \\\n",
       "5939    01-01-2009    Cobar     17.9     35.2       0.0         12.0   \n",
       "5940    02-01-2009    Cobar     18.4     28.9       0.0         14.8   \n",
       "5942    04-01-2009    Cobar     19.4     37.6       0.0         10.8   \n",
       "5943    05-01-2009    Cobar     21.9     38.4       0.0         11.4   \n",
       "5944    06-01-2009    Cobar     24.2     41.0       0.0         11.2   \n",
       "...            ...      ...      ...      ...       ...          ...   \n",
       "139108  20-06-2017   Darwin     19.3     33.4       0.0          6.0   \n",
       "139109  21-06-2017   Darwin     21.2     32.6       0.0          7.6   \n",
       "139110  22-06-2017   Darwin     20.7     32.8       0.0          5.6   \n",
       "139111  23-06-2017   Darwin     19.5     31.8       0.0          6.2   \n",
       "139112  24-06-2017   Darwin     20.2     31.7       0.0          5.6   \n",
       "\n",
       "        Sunshine WindGustDir  WindGustSpeed WindDir9am  ... Humidity3pm  \\\n",
       "5939        12.3         SSW           48.0        ENE  ...        13.0   \n",
       "5940        13.0           S           37.0        SSE  ...         8.0   \n",
       "5942        10.6         NNE           46.0        NNE  ...        22.0   \n",
       "5943        12.2         WNW           31.0        WNW  ...        22.0   \n",
       "5944         8.4         WNW           35.0         NW  ...        15.0   \n",
       "...          ...         ...            ...        ...  ...         ...   \n",
       "139108      11.0         ENE           35.0         SE  ...        32.0   \n",
       "139109       8.6           E           37.0         SE  ...        28.0   \n",
       "139110      11.0           E           33.0          E  ...        23.0   \n",
       "139111      10.6         ESE           26.0         SE  ...        58.0   \n",
       "139112      10.7         ENE           30.0        ENE  ...        32.0   \n",
       "\n",
       "        Pressure9am  Pressure3pm  Cloud9am  Cloud3pm  Temp9am  Temp3pm  \\\n",
       "5939         1006.3       1004.4       2.0       5.0     26.6     33.4   \n",
       "5940         1012.9       1012.1       1.0       1.0     20.3     27.0   \n",
       "5942         1012.3       1009.2       1.0       6.0     28.7     34.9   \n",
       "5943         1012.7       1009.1       1.0       5.0     29.1     35.6   \n",
       "5944         1010.7       1007.4       1.0       6.0     33.6     37.6   \n",
       "...             ...          ...       ...       ...      ...      ...   \n",
       "139108       1013.9       1010.5       0.0       1.0     24.5     32.3   \n",
       "139109       1014.6       1011.2       7.0       0.0     24.8     32.0   \n",
       "139110       1015.3       1011.8       0.0       0.0     24.8     32.1   \n",
       "139111       1014.9       1010.7       1.0       1.0     24.8     29.2   \n",
       "139112       1013.9       1009.7       6.0       5.0     25.4     31.0   \n",
       "\n",
       "        RainToday  RISK_MM  RainTomorrow  \n",
       "5939           No      0.0            No  \n",
       "5940           No      0.0            No  \n",
       "5942           No      0.0            No  \n",
       "5943           No      0.0            No  \n",
       "5944           No      0.0            No  \n",
       "...           ...      ...           ...  \n",
       "139108         No      0.0            No  \n",
       "139109         No      0.0            No  \n",
       "139110         No      0.0            No  \n",
       "139111         No      0.0            No  \n",
       "139112         No      0.0            No  \n",
       "\n",
       "[56669 rows x 24 columns]"
      ]
     },
     "execution_count": 194,
     "metadata": {},
     "output_type": "execute_result"
    }
   ],
   "source": [
    "data"
   ]
  },
  {
   "cell_type": "code",
   "execution_count": 195,
   "metadata": {},
   "outputs": [
    {
     "name": "stdout",
     "output_type": "stream",
     "text": [
      "5939      False\n",
      "5940      False\n",
      "5942      False\n",
      "5943      False\n",
      "5944      False\n",
      "          ...  \n",
      "139108    False\n",
      "139109    False\n",
      "139110    False\n",
      "139111    False\n",
      "139112    False\n",
      "Length: 56669, dtype: bool\n",
      "Number of duplicate records :  0\n"
     ]
    }
   ],
   "source": [
    "duplicate= data.duplicated()\n",
    "print(duplicate)\n",
    "print(\"Number of duplicate records : \", duplicate.sum())"
   ]
  },
  {
   "cell_type": "code",
   "execution_count": 196,
   "metadata": {},
   "outputs": [],
   "source": [
    "data=data.sort_values(by='Date')"
   ]
  },
  {
   "cell_type": "code",
   "execution_count": 197,
   "metadata": {},
   "outputs": [],
   "source": [
    "#Removing unwanted features, RISK_MM is same as target label hence removing with data and loaction  \n",
    "data= data.drop(axis= 1, columns = ['Date', 'Location','RISK_MM'])"
   ]
  },
  {
   "cell_type": "code",
   "execution_count": 198,
   "metadata": {},
   "outputs": [
    {
     "data": {
      "text/plain": [
       "MinTemp          0\n",
       "MaxTemp          0\n",
       "Rainfall         0\n",
       "Evaporation      0\n",
       "Sunshine         0\n",
       "WindGustDir      0\n",
       "WindGustSpeed    0\n",
       "WindDir9am       0\n",
       "WindDir3pm       0\n",
       "WindSpeed9am     0\n",
       "WindSpeed3pm     0\n",
       "Humidity9am      0\n",
       "Humidity3pm      0\n",
       "Pressure9am      0\n",
       "Pressure3pm      0\n",
       "Cloud9am         0\n",
       "Cloud3pm         0\n",
       "Temp9am          0\n",
       "Temp3pm          0\n",
       "RainToday        0\n",
       "RainTomorrow     0\n",
       "dtype: int64"
      ]
     },
     "execution_count": 198,
     "metadata": {},
     "output_type": "execute_result"
    }
   ],
   "source": [
    "data.isnull().sum()"
   ]
  },
  {
   "cell_type": "code",
   "execution_count": 199,
   "metadata": {},
   "outputs": [
    {
     "data": {
      "text/html": [
       "<div>\n",
       "<style scoped>\n",
       "    .dataframe tbody tr th:only-of-type {\n",
       "        vertical-align: middle;\n",
       "    }\n",
       "\n",
       "    .dataframe tbody tr th {\n",
       "        vertical-align: top;\n",
       "    }\n",
       "\n",
       "    .dataframe thead th {\n",
       "        text-align: right;\n",
       "    }\n",
       "</style>\n",
       "<table border=\"1\" class=\"dataframe\">\n",
       "  <thead>\n",
       "    <tr style=\"text-align: right;\">\n",
       "      <th></th>\n",
       "      <th>MinTemp</th>\n",
       "      <th>MaxTemp</th>\n",
       "      <th>Rainfall</th>\n",
       "      <th>Evaporation</th>\n",
       "      <th>Sunshine</th>\n",
       "      <th>WindGustDir</th>\n",
       "      <th>WindGustSpeed</th>\n",
       "      <th>WindDir9am</th>\n",
       "      <th>WindDir3pm</th>\n",
       "      <th>WindSpeed9am</th>\n",
       "      <th>...</th>\n",
       "      <th>Humidity9am</th>\n",
       "      <th>Humidity3pm</th>\n",
       "      <th>Pressure9am</th>\n",
       "      <th>Pressure3pm</th>\n",
       "      <th>Cloud9am</th>\n",
       "      <th>Cloud3pm</th>\n",
       "      <th>Temp9am</th>\n",
       "      <th>Temp3pm</th>\n",
       "      <th>RainToday</th>\n",
       "      <th>RainTomorrow</th>\n",
       "    </tr>\n",
       "  </thead>\n",
       "  <tbody>\n",
       "    <tr>\n",
       "      <th>44412</th>\n",
       "      <td>13.6</td>\n",
       "      <td>34.2</td>\n",
       "      <td>0.0</td>\n",
       "      <td>8.8</td>\n",
       "      <td>12.8</td>\n",
       "      <td>NNE</td>\n",
       "      <td>35.0</td>\n",
       "      <td>ESE</td>\n",
       "      <td>W</td>\n",
       "      <td>2.0</td>\n",
       "      <td>...</td>\n",
       "      <td>50.0</td>\n",
       "      <td>20.0</td>\n",
       "      <td>1015.8</td>\n",
       "      <td>1011.6</td>\n",
       "      <td>7.0</td>\n",
       "      <td>6.0</td>\n",
       "      <td>21.9</td>\n",
       "      <td>31.8</td>\n",
       "      <td>No</td>\n",
       "      <td>No</td>\n",
       "    </tr>\n",
       "    <tr>\n",
       "      <th>5939</th>\n",
       "      <td>17.9</td>\n",
       "      <td>35.2</td>\n",
       "      <td>0.0</td>\n",
       "      <td>12.0</td>\n",
       "      <td>12.3</td>\n",
       "      <td>SSW</td>\n",
       "      <td>48.0</td>\n",
       "      <td>ENE</td>\n",
       "      <td>SW</td>\n",
       "      <td>6.0</td>\n",
       "      <td>...</td>\n",
       "      <td>20.0</td>\n",
       "      <td>13.0</td>\n",
       "      <td>1006.3</td>\n",
       "      <td>1004.4</td>\n",
       "      <td>2.0</td>\n",
       "      <td>5.0</td>\n",
       "      <td>26.6</td>\n",
       "      <td>33.4</td>\n",
       "      <td>No</td>\n",
       "      <td>No</td>\n",
       "    </tr>\n",
       "    <tr>\n",
       "      <th>84886</th>\n",
       "      <td>23.6</td>\n",
       "      <td>31.4</td>\n",
       "      <td>15.8</td>\n",
       "      <td>4.6</td>\n",
       "      <td>3.4</td>\n",
       "      <td>NNE</td>\n",
       "      <td>28.0</td>\n",
       "      <td>E</td>\n",
       "      <td>N</td>\n",
       "      <td>4.0</td>\n",
       "      <td>...</td>\n",
       "      <td>77.0</td>\n",
       "      <td>70.0</td>\n",
       "      <td>1008.1</td>\n",
       "      <td>1005.6</td>\n",
       "      <td>7.0</td>\n",
       "      <td>6.0</td>\n",
       "      <td>28.0</td>\n",
       "      <td>30.1</td>\n",
       "      <td>Yes</td>\n",
       "      <td>Yes</td>\n",
       "    </tr>\n",
       "    <tr>\n",
       "      <th>126858</th>\n",
       "      <td>10.6</td>\n",
       "      <td>17.5</td>\n",
       "      <td>2.8</td>\n",
       "      <td>6.8</td>\n",
       "      <td>8.6</td>\n",
       "      <td>WSW</td>\n",
       "      <td>76.0</td>\n",
       "      <td>WSW</td>\n",
       "      <td>WSW</td>\n",
       "      <td>35.0</td>\n",
       "      <td>...</td>\n",
       "      <td>48.0</td>\n",
       "      <td>32.0</td>\n",
       "      <td>992.2</td>\n",
       "      <td>996.2</td>\n",
       "      <td>1.0</td>\n",
       "      <td>6.0</td>\n",
       "      <td>13.6</td>\n",
       "      <td>17.0</td>\n",
       "      <td>Yes</td>\n",
       "      <td>No</td>\n",
       "    </tr>\n",
       "    <tr>\n",
       "      <th>32834</th>\n",
       "      <td>17.7</td>\n",
       "      <td>35.1</td>\n",
       "      <td>0.0</td>\n",
       "      <td>9.8</td>\n",
       "      <td>12.9</td>\n",
       "      <td>S</td>\n",
       "      <td>72.0</td>\n",
       "      <td>NW</td>\n",
       "      <td>NW</td>\n",
       "      <td>15.0</td>\n",
       "      <td>...</td>\n",
       "      <td>63.0</td>\n",
       "      <td>13.0</td>\n",
       "      <td>1005.3</td>\n",
       "      <td>1000.2</td>\n",
       "      <td>6.0</td>\n",
       "      <td>6.0</td>\n",
       "      <td>22.9</td>\n",
       "      <td>34.0</td>\n",
       "      <td>No</td>\n",
       "      <td>No</td>\n",
       "    </tr>\n",
       "    <tr>\n",
       "      <th>...</th>\n",
       "      <td>...</td>\n",
       "      <td>...</td>\n",
       "      <td>...</td>\n",
       "      <td>...</td>\n",
       "      <td>...</td>\n",
       "      <td>...</td>\n",
       "      <td>...</td>\n",
       "      <td>...</td>\n",
       "      <td>...</td>\n",
       "      <td>...</td>\n",
       "      <td>...</td>\n",
       "      <td>...</td>\n",
       "      <td>...</td>\n",
       "      <td>...</td>\n",
       "      <td>...</td>\n",
       "      <td>...</td>\n",
       "      <td>...</td>\n",
       "      <td>...</td>\n",
       "      <td>...</td>\n",
       "      <td>...</td>\n",
       "      <td>...</td>\n",
       "    </tr>\n",
       "    <tr>\n",
       "      <th>117530</th>\n",
       "      <td>12.1</td>\n",
       "      <td>28.9</td>\n",
       "      <td>0.0</td>\n",
       "      <td>8.0</td>\n",
       "      <td>13.2</td>\n",
       "      <td>SW</td>\n",
       "      <td>48.0</td>\n",
       "      <td>SSE</td>\n",
       "      <td>WSW</td>\n",
       "      <td>15.0</td>\n",
       "      <td>...</td>\n",
       "      <td>46.0</td>\n",
       "      <td>35.0</td>\n",
       "      <td>1016.1</td>\n",
       "      <td>1012.9</td>\n",
       "      <td>1.0</td>\n",
       "      <td>1.0</td>\n",
       "      <td>20.3</td>\n",
       "      <td>27.4</td>\n",
       "      <td>No</td>\n",
       "      <td>No</td>\n",
       "    </tr>\n",
       "    <tr>\n",
       "      <th>78576</th>\n",
       "      <td>16.7</td>\n",
       "      <td>26.5</td>\n",
       "      <td>0.0</td>\n",
       "      <td>8.6</td>\n",
       "      <td>11.9</td>\n",
       "      <td>WNW</td>\n",
       "      <td>28.0</td>\n",
       "      <td>W</td>\n",
       "      <td>WSW</td>\n",
       "      <td>11.0</td>\n",
       "      <td>...</td>\n",
       "      <td>61.0</td>\n",
       "      <td>47.0</td>\n",
       "      <td>1006.2</td>\n",
       "      <td>1005.2</td>\n",
       "      <td>6.0</td>\n",
       "      <td>1.0</td>\n",
       "      <td>19.4</td>\n",
       "      <td>25.1</td>\n",
       "      <td>No</td>\n",
       "      <td>No</td>\n",
       "    </tr>\n",
       "    <tr>\n",
       "      <th>71010</th>\n",
       "      <td>16.3</td>\n",
       "      <td>32.4</td>\n",
       "      <td>0.0</td>\n",
       "      <td>9.4</td>\n",
       "      <td>13.0</td>\n",
       "      <td>WSW</td>\n",
       "      <td>30.0</td>\n",
       "      <td>S</td>\n",
       "      <td>W</td>\n",
       "      <td>13.0</td>\n",
       "      <td>...</td>\n",
       "      <td>57.0</td>\n",
       "      <td>30.0</td>\n",
       "      <td>1008.0</td>\n",
       "      <td>1005.4</td>\n",
       "      <td>0.0</td>\n",
       "      <td>0.0</td>\n",
       "      <td>20.7</td>\n",
       "      <td>29.9</td>\n",
       "      <td>No</td>\n",
       "      <td>No</td>\n",
       "    </tr>\n",
       "    <tr>\n",
       "      <th>32657</th>\n",
       "      <td>24.1</td>\n",
       "      <td>30.0</td>\n",
       "      <td>0.0</td>\n",
       "      <td>8.2</td>\n",
       "      <td>4.8</td>\n",
       "      <td>SE</td>\n",
       "      <td>37.0</td>\n",
       "      <td>SSE</td>\n",
       "      <td>SE</td>\n",
       "      <td>17.0</td>\n",
       "      <td>...</td>\n",
       "      <td>57.0</td>\n",
       "      <td>62.0</td>\n",
       "      <td>1003.7</td>\n",
       "      <td>1003.4</td>\n",
       "      <td>6.0</td>\n",
       "      <td>7.0</td>\n",
       "      <td>27.7</td>\n",
       "      <td>26.4</td>\n",
       "      <td>No</td>\n",
       "      <td>No</td>\n",
       "    </tr>\n",
       "    <tr>\n",
       "      <th>84683</th>\n",
       "      <td>24.5</td>\n",
       "      <td>33.9</td>\n",
       "      <td>0.0</td>\n",
       "      <td>8.0</td>\n",
       "      <td>13.1</td>\n",
       "      <td>NE</td>\n",
       "      <td>31.0</td>\n",
       "      <td>N</td>\n",
       "      <td>NE</td>\n",
       "      <td>6.0</td>\n",
       "      <td>...</td>\n",
       "      <td>58.0</td>\n",
       "      <td>57.0</td>\n",
       "      <td>1007.0</td>\n",
       "      <td>1003.4</td>\n",
       "      <td>3.0</td>\n",
       "      <td>1.0</td>\n",
       "      <td>30.6</td>\n",
       "      <td>31.9</td>\n",
       "      <td>No</td>\n",
       "      <td>No</td>\n",
       "    </tr>\n",
       "  </tbody>\n",
       "</table>\n",
       "<p>56669 rows × 21 columns</p>\n",
       "</div>"
      ],
      "text/plain": [
       "        MinTemp  MaxTemp  Rainfall  Evaporation  Sunshine WindGustDir  \\\n",
       "44412      13.6     34.2       0.0          8.8      12.8         NNE   \n",
       "5939       17.9     35.2       0.0         12.0      12.3         SSW   \n",
       "84886      23.6     31.4      15.8          4.6       3.4         NNE   \n",
       "126858     10.6     17.5       2.8          6.8       8.6         WSW   \n",
       "32834      17.7     35.1       0.0          9.8      12.9           S   \n",
       "...         ...      ...       ...          ...       ...         ...   \n",
       "117530     12.1     28.9       0.0          8.0      13.2          SW   \n",
       "78576      16.7     26.5       0.0          8.6      11.9         WNW   \n",
       "71010      16.3     32.4       0.0          9.4      13.0         WSW   \n",
       "32657      24.1     30.0       0.0          8.2       4.8          SE   \n",
       "84683      24.5     33.9       0.0          8.0      13.1          NE   \n",
       "\n",
       "        WindGustSpeed WindDir9am WindDir3pm  WindSpeed9am  ...  Humidity9am  \\\n",
       "44412            35.0        ESE          W           2.0  ...         50.0   \n",
       "5939             48.0        ENE         SW           6.0  ...         20.0   \n",
       "84886            28.0          E          N           4.0  ...         77.0   \n",
       "126858           76.0        WSW        WSW          35.0  ...         48.0   \n",
       "32834            72.0         NW         NW          15.0  ...         63.0   \n",
       "...               ...        ...        ...           ...  ...          ...   \n",
       "117530           48.0        SSE        WSW          15.0  ...         46.0   \n",
       "78576            28.0          W        WSW          11.0  ...         61.0   \n",
       "71010            30.0          S          W          13.0  ...         57.0   \n",
       "32657            37.0        SSE         SE          17.0  ...         57.0   \n",
       "84683            31.0          N         NE           6.0  ...         58.0   \n",
       "\n",
       "        Humidity3pm  Pressure9am  Pressure3pm  Cloud9am  Cloud3pm  Temp9am  \\\n",
       "44412          20.0       1015.8       1011.6       7.0       6.0     21.9   \n",
       "5939           13.0       1006.3       1004.4       2.0       5.0     26.6   \n",
       "84886          70.0       1008.1       1005.6       7.0       6.0     28.0   \n",
       "126858         32.0        992.2        996.2       1.0       6.0     13.6   \n",
       "32834          13.0       1005.3       1000.2       6.0       6.0     22.9   \n",
       "...             ...          ...          ...       ...       ...      ...   \n",
       "117530         35.0       1016.1       1012.9       1.0       1.0     20.3   \n",
       "78576          47.0       1006.2       1005.2       6.0       1.0     19.4   \n",
       "71010          30.0       1008.0       1005.4       0.0       0.0     20.7   \n",
       "32657          62.0       1003.7       1003.4       6.0       7.0     27.7   \n",
       "84683          57.0       1007.0       1003.4       3.0       1.0     30.6   \n",
       "\n",
       "        Temp3pm  RainToday RainTomorrow  \n",
       "44412      31.8         No           No  \n",
       "5939       33.4         No           No  \n",
       "84886      30.1        Yes          Yes  \n",
       "126858     17.0        Yes           No  \n",
       "32834      34.0         No           No  \n",
       "...         ...        ...          ...  \n",
       "117530     27.4         No           No  \n",
       "78576      25.1         No           No  \n",
       "71010      29.9         No           No  \n",
       "32657      26.4         No           No  \n",
       "84683      31.9         No           No  \n",
       "\n",
       "[56669 rows x 21 columns]"
      ]
     },
     "execution_count": 199,
     "metadata": {},
     "output_type": "execute_result"
    }
   ],
   "source": [
    "data"
   ]
  },
  {
   "cell_type": "code",
   "execution_count": 200,
   "metadata": {},
   "outputs": [],
   "source": [
    "data_final = data"
   ]
  },
  {
   "cell_type": "code",
   "execution_count": 201,
   "metadata": {},
   "outputs": [
    {
     "data": {
      "text/plain": [
       "<matplotlib.axes._subplots.AxesSubplot at 0x26d3c6c9d30>"
      ]
     },
     "execution_count": 201,
     "metadata": {},
     "output_type": "execute_result"
    },
    {
     "data": {
      "image/png": "[encoded data removed]",
      "text/plain": [
       "<Figure size 864x576 with 1 Axes>"
      ]
     },
     "metadata": {},
     "output_type": "display_data"
    }
   ],
   "source": [
    "#Boxplot for MinTemp,MaxTemp,Temp9am and Temp3pm\n",
    "pl.figure(figsize=(12, 8))\n",
    "data_final.boxplot(column=['MinTemp','MaxTemp','Temp9am','Temp3pm'])"
   ]
  },
  {
   "cell_type": "code",
   "execution_count": 202,
   "metadata": {},
   "outputs": [
    {
     "data": {
      "text/plain": [
       "<matplotlib.axes._subplots.AxesSubplot at 0x26d3fb8cca0>"
      ]
     },
     "execution_count": 202,
     "metadata": {},
     "output_type": "execute_result"
    },
    {
     "data": {
      "image/png": "[encoded data removed]",
      "text/plain": [
       "<Figure size 864x576 with 1 Axes>"
      ]
     },
     "metadata": {},
     "output_type": "display_data"
    }
   ],
   "source": [
    "pl.figure(figsize=(12, 8))\n",
    "data_final.boxplot(column=['Evaporation','Sunshine'])"
   ]
  },
  {
   "cell_type": "code",
   "execution_count": 203,
   "metadata": {},
   "outputs": [
    {
     "data": {
      "text/plain": [
       "<matplotlib.axes._subplots.AxesSubplot at 0x26d3fbb8280>"
      ]
     },
     "execution_count": 203,
     "metadata": {},
     "output_type": "execute_result"
    },
    {
     "data": {
      "image/png": "[encoded data removed]",
      "text/plain": [
       "<Figure size 864x576 with 1 Axes>"
      ]
     },
     "metadata": {},
     "output_type": "display_data"
    }
   ],
   "source": [
    "pl.figure(figsize=(12, 8))\n",
    "data_final.boxplot(column=['Pressure9am','Pressure3pm'])"
   ]
  },
  {
   "cell_type": "code",
   "execution_count": 204,
   "metadata": {},
   "outputs": [
    {
     "data": {
      "text/plain": [
       "<matplotlib.axes._subplots.AxesSubplot at 0x26d3fb8c6d0>"
      ]
     },
     "execution_count": 204,
     "metadata": {},
     "output_type": "execute_result"
    },
    {
     "data": {
      "image/png": "[encoded data removed]",
      "text/plain": [
       "<Figure size 864x576 with 1 Axes>"
      ]
     },
     "metadata": {},
     "output_type": "display_data"
    }
   ],
   "source": [
    "pl.figure(figsize=(12, 8))\n",
    "data_final.boxplot(column=['Humidity9am','Humidity3pm'])"
   ]
  },
  {
   "cell_type": "code",
   "execution_count": 205,
   "metadata": {},
   "outputs": [
    {
     "data": {
      "text/plain": [
       "<matplotlib.axes._subplots.AxesSubplot at 0x26d3fc35370>"
      ]
     },
     "execution_count": 205,
     "metadata": {},
     "output_type": "execute_result"
    },
    {
     "data": {
      "image/png": "[encoded data removed]",
      "text/plain": [
       "<Figure size 864x576 with 1 Axes>"
      ]
     },
     "metadata": {},
     "output_type": "display_data"
    }
   ],
   "source": [
    "pl.figure(figsize=(12, 8))\n",
    "data_final.boxplot(column=['WindGustSpeed','WindSpeed9am','WindSpeed3pm'])"
   ]
  },
  {
   "cell_type": "code",
   "execution_count": 206,
   "metadata": {},
   "outputs": [
    {
     "data": {
      "text/plain": [
       "<matplotlib.axes._subplots.AxesSubplot at 0x26d3e81e700>"
      ]
     },
     "execution_count": 206,
     "metadata": {},
     "output_type": "execute_result"
    },
    {
     "data": {
      "image/png": "[encoded data removed]",
      "text/plain": [
       "<Figure size 720x432 with 1 Axes>"
      ]
     },
     "metadata": {},
     "output_type": "display_data"
    }
   ],
   "source": [
    "pl.figure(figsize=(10, 6))\n",
    "data_final.boxplot(column=['Cloud9am','Cloud3pm'])"
   ]
  },
  {
   "cell_type": "code",
   "execution_count": 207,
   "metadata": {},
   "outputs": [
    {
     "data": {
      "text/plain": [
       "<matplotlib.axes._subplots.AxesSubplot at 0x26d400e28e0>"
      ]
     },
     "execution_count": 207,
     "metadata": {},
     "output_type": "execute_result"
    },
    {
     "data": {
      "image/png": "[encoded data removed]",
      "text/plain": [
       "<Figure size 864x576 with 1 Axes>"
      ]
     },
     "metadata": {},
     "output_type": "display_data"
    }
   ],
   "source": [
    "pl.figure(figsize=(12, 8))\n",
    "data_final.boxplot(column=['Rainfall'])"
   ]
  },
  {
   "cell_type": "code",
   "execution_count": 208,
   "metadata": {},
   "outputs": [
    {
     "data": {
      "text/plain": [
       "44412     NNE\n",
       "5939      SSW\n",
       "84886     NNE\n",
       "126858    WSW\n",
       "32834       S\n",
       "         ... \n",
       "117530     SW\n",
       "78576     WNW\n",
       "71010     WSW\n",
       "32657      SE\n",
       "84683      NE\n",
       "Name: WindGustDir, Length: 56669, dtype: object"
      ]
     },
     "execution_count": 208,
     "metadata": {},
     "output_type": "execute_result"
    }
   ],
   "source": [
    "data_final['WindGustDir']"
   ]
  },
  {
   "cell_type": "code",
   "execution_count": 209,
   "metadata": {},
   "outputs": [
    {
     "data": {
      "text/plain": [
       "44412      No\n",
       "5939       No\n",
       "84886     Yes\n",
       "126858     No\n",
       "32834      No\n",
       "         ... \n",
       "117530     No\n",
       "78576      No\n",
       "71010      No\n",
       "32657      No\n",
       "84683      No\n",
       "Name: RainTomorrow, Length: 56669, dtype: object"
      ]
     },
     "execution_count": 209,
     "metadata": {},
     "output_type": "execute_result"
    }
   ],
   "source": [
    "data_final['RainTomorrow']"
   ]
  },
  {
   "cell_type": "code",
   "execution_count": 210,
   "metadata": {},
   "outputs": [],
   "source": [
    "#similar process for WindDGustDir, WindDir9am,WindDir3pm,RainToday\n",
    "RainTomorrow_encode = LabelEncoder()\n",
    "data_final['make_code']=RainTomorrow_encode.fit_transform(data_final['RainTomorrow'])\n"
   ]
  },
  {
   "cell_type": "code",
   "execution_count": 211,
   "metadata": {},
   "outputs": [
    {
     "name": "stdout",
     "output_type": "stream",
     "text": [
      "Probability of Rain Tomorrow : 0.22059679895533713\n"
     ]
    }
   ],
   "source": [
    "print('Probability of Rain Tomorrow :', np.mean(data_final['make_code']))"
   ]
  },
  {
   "cell_type": "code",
   "execution_count": 212,
   "metadata": {},
   "outputs": [],
   "source": [
    "WindGustDir_encode = LabelEncoder()\n",
    "data_final['WindGustDir']=WindGustDir_encode.fit_transform(data_final['WindGustDir'])\n",
    "\n",
    "WindDir9am_encode = LabelEncoder()\n",
    "data_final['WindDir9am']=WindDir9am_encode.fit_transform(data_final['WindDir9am'])\n",
    "\n",
    "WindDir3pm_encode = LabelEncoder()\n",
    "data_final['WindDir3pm']=WindDir3pm_encode.fit_transform(data_final['WindDir3pm'])\n",
    "\n",
    "RainToday_encode = LabelEncoder()\n",
    "data_final['RainToday']=RainToday_encode.fit_transform(data_final['RainToday'])\n",
    "\n",
    "RainTomorrow_encode = LabelEncoder()\n",
    "data_final['RainTomorrow']=RainTomorrow_encode.fit_transform(data_final[\"RainTomorrow\"])"
   ]
  },
  {
   "cell_type": "code",
   "execution_count": 213,
   "metadata": {},
   "outputs": [
    {
     "data": {
      "image/png": "[encoded data removed]",
      "text/plain": [
       "<Figure size 1152x864 with 4 Axes>"
      ]
     },
     "metadata": {},
     "output_type": "display_data"
    }
   ],
   "source": [
    "from numpy import mean\n",
    "\n",
    "n_row = 2\n",
    "n_col = 2\n",
    "list_of_variables = [ 'WindGustDir', 'WindDir9am', 'WindDir3pm', 'RainToday']\n",
    "f, axes = pl.subplots(n_row, n_col, figsize=(16, 12))\n",
    "k = 0\n",
    "for i in list(range(n_row)):\n",
    "    for j in list(range(n_col)):\n",
    "        sns.barplot(x = list_of_variables[k], y = 'RainTomorrow', data = data_final, estimator = mean, color = 'orange', ax=axes[i, j])\n",
    "        #g.xticks(rotation=45)\n",
    "        k = k + 1"
   ]
  },
  {
   "cell_type": "code",
   "execution_count": 214,
   "metadata": {},
   "outputs": [
    {
     "data": {
      "text/plain": [
       "count    56669.000000\n",
       "mean        13.455604\n",
       "std          6.415915\n",
       "min         -6.700000\n",
       "25%          8.600000\n",
       "50%         13.200000\n",
       "75%         18.400000\n",
       "max         31.400000\n",
       "Name: MinTemp, dtype: float64"
      ]
     },
     "execution_count": 214,
     "metadata": {},
     "output_type": "execute_result"
    }
   ],
   "source": [
    "data_final['MinTemp'].describe()"
   ]
  },
  {
   "cell_type": "code",
   "execution_count": 215,
   "metadata": {},
   "outputs": [
    {
     "name": "stdout",
     "output_type": "stream",
     "text": [
      "MinTemp outliers are values < -6.1 or > 33.099999999999994\n"
     ]
    }
   ],
   "source": [
    "IQR = data.MinTemp.quantile(0.75) - data.MinTemp.quantile(0.25)\n",
    "Lower_fence = data.MinTemp.quantile(0.25) - (IQR * 1.5)\n",
    "Upper_fence = data.MinTemp.quantile(0.75) + (IQR * 1.5)\n",
    "print('MinTemp outliers are values < {lowerboundary} or > {upperboundary}'.format(lowerboundary=Lower_fence, upperboundary=Upper_fence))\n"
   ]
  },
  {
   "cell_type": "code",
   "execution_count": 216,
   "metadata": {},
   "outputs": [
    {
     "data": {
      "text/plain": [
       "count    56669.000000\n",
       "mean        24.208474\n",
       "std          6.973185\n",
       "min          4.100000\n",
       "25%         18.700000\n",
       "50%         23.900000\n",
       "75%         29.700000\n",
       "max         48.100000\n",
       "Name: MaxTemp, dtype: float64"
      ]
     },
     "execution_count": 216,
     "metadata": {},
     "output_type": "execute_result"
    }
   ],
   "source": [
    "data_final['MaxTemp'].describe()"
   ]
  },
  {
   "cell_type": "code",
   "execution_count": 217,
   "metadata": {},
   "outputs": [
    {
     "name": "stdout",
     "output_type": "stream",
     "text": [
      "MaxTemp outliers are values < 2.1999999999999993 or > 46.2\n"
     ]
    }
   ],
   "source": [
    "IQR = data.MaxTemp.quantile(0.75) - data.MaxTemp.quantile(0.25)\n",
    "Lower_fence = data.MaxTemp.quantile(0.25) - (IQR * 1.5)\n",
    "Upper_fence = data.MaxTemp.quantile(0.75) + (IQR * 1.5)\n",
    "print('MaxTemp outliers are values < {lowerboundary} or > {upperboundary}'.format(lowerboundary=Lower_fence, upperboundary=Upper_fence))\n"
   ]
  },
  {
   "cell_type": "code",
   "execution_count": 218,
   "metadata": {},
   "outputs": [
    {
     "data": {
      "text/plain": [
       "count    56669.000000\n",
       "mean        18.198401\n",
       "std          6.565040\n",
       "min         -0.700000\n",
       "25%         13.100000\n",
       "50%         17.800000\n",
       "75%         23.300000\n",
       "max         39.400000\n",
       "Name: Temp9am, dtype: float64"
      ]
     },
     "execution_count": 218,
     "metadata": {},
     "output_type": "execute_result"
    }
   ],
   "source": [
    "data_final['Temp9am'].describe()"
   ]
  },
  {
   "cell_type": "code",
   "execution_count": 219,
   "metadata": {},
   "outputs": [
    {
     "name": "stdout",
     "output_type": "stream",
     "text": [
      "Temp9am outliers are values < -2.200000000000001 or > 38.6\n"
     ]
    }
   ],
   "source": [
    "IQR = data.Temp9am.quantile(0.75) - data.Temp9am.quantile(0.25)\n",
    "Lower_fence = data.Temp9am.quantile(0.25) - (IQR * 1.5)\n",
    "Upper_fence = data.Temp9am.quantile(0.75) + (IQR * 1.5)\n",
    "print( 'Temp9am outliers are values < {lowerboundary} or > {upperboundary}'.format(lowerboundary=Lower_fence, upperboundary=Upper_fence))\n"
   ]
  },
  {
   "cell_type": "code",
   "execution_count": 220,
   "metadata": {},
   "outputs": [
    {
     "data": {
      "text/plain": [
       "count    56669.000000\n",
       "mean        22.701050\n",
       "std          6.837736\n",
       "min          3.700000\n",
       "25%         17.400000\n",
       "50%         22.400000\n",
       "75%         27.900000\n",
       "max         46.100000\n",
       "Name: Temp3pm, dtype: float64"
      ]
     },
     "execution_count": 220,
     "metadata": {},
     "output_type": "execute_result"
    }
   ],
   "source": [
    "data_final['Temp3pm'].describe()"
   ]
  },
  {
   "cell_type": "code",
   "execution_count": 221,
   "metadata": {},
   "outputs": [
    {
     "name": "stdout",
     "output_type": "stream",
     "text": [
      "Temp3pm outliers are values < 1.6499999999999986 or > 43.65\n"
     ]
    }
   ],
   "source": [
    "IQR = data.Temp3pm.quantile(0.75) - data.Temp3pm.quantile(0.25)\n",
    "Lower_fence = data.Temp3pm.quantile(0.25) - (IQR * 1.5)\n",
    "Upper_fence = data.Temp3pm.quantile(0.75) + (IQR * 1.5)\n",
    "print( 'Temp3pm outliers are values < {lowerboundary} or > {upperboundary}'.format(lowerboundary=Lower_fence, upperboundary=Upper_fence))"
   ]
  },
  {
   "cell_type": "code",
   "execution_count": 222,
   "metadata": {},
   "outputs": [
    {
     "data": {
      "text/plain": [
       "count    56669.000000\n",
       "mean         5.500568\n",
       "std          3.696426\n",
       "min          0.000000\n",
       "25%          2.800000\n",
       "50%          5.000000\n",
       "75%          7.400000\n",
       "max         81.200000\n",
       "Name: Evaporation, dtype: float64"
      ]
     },
     "execution_count": 222,
     "metadata": {},
     "output_type": "execute_result"
    }
   ],
   "source": [
    "data_final['Evaporation'].describe()"
   ]
  },
  {
   "cell_type": "code",
   "execution_count": 223,
   "metadata": {},
   "outputs": [
    {
     "name": "stdout",
     "output_type": "stream",
     "text": [
      "Evaporation outliers are values < -4.1000000000000005 or > 14.3\n"
     ]
    }
   ],
   "source": [
    "IQR = data.Evaporation.quantile(0.75) - data.Evaporation.quantile(0.25)\n",
    "Lower_fence = data.Evaporation.quantile(0.25) - (IQR * 1.5)\n",
    "Upper_fence = data.Evaporation.quantile(0.75) + (IQR * 1.5)\n",
    "print('Evaporation outliers are values < {lowerboundary} or > {upperboundary}'.format(lowerboundary=Lower_fence, upperboundary=Upper_fence))\n"
   ]
  },
  {
   "cell_type": "code",
   "execution_count": 224,
   "metadata": {},
   "outputs": [
    {
     "data": {
      "text/plain": [
       "count    56669.000000\n",
       "mean      1017.241989\n",
       "std          6.908022\n",
       "min        980.500000\n",
       "25%       1012.700000\n",
       "50%       1017.200000\n",
       "75%       1021.800000\n",
       "max       1040.400000\n",
       "Name: Pressure9am, dtype: float64"
      ]
     },
     "execution_count": 224,
     "metadata": {},
     "output_type": "execute_result"
    }
   ],
   "source": [
    "data_final['Pressure9am'].describe()"
   ]
  },
  {
   "cell_type": "code",
   "execution_count": 225,
   "metadata": {},
   "outputs": [
    {
     "name": "stdout",
     "output_type": "stream",
     "text": [
      "Pressure9am outliers are values < 999.0500000000002 or > 1035.4499999999998\n"
     ]
    }
   ],
   "source": [
    "IQR = data.Pressure9am.quantile(0.75) - data.Pressure9am.quantile(0.25)\n",
    "Lower_fence = data.Pressure9am.quantile(0.25) - (IQR * 1.5)\n",
    "Upper_fence = data.Pressure9am.quantile(0.75) + (IQR * 1.5)\n",
    "print('Pressure9am outliers are values < {lowerboundary} or > {upperboundary}'.format(lowerboundary=Lower_fence, upperboundary=Upper_fence))\n"
   ]
  },
  {
   "cell_type": "code",
   "execution_count": 226,
   "metadata": {},
   "outputs": [
    {
     "data": {
      "text/plain": [
       "count    56669.000000\n",
       "mean      1014.798994\n",
       "std          6.870769\n",
       "min        977.100000\n",
       "25%       1010.100000\n",
       "50%       1014.700000\n",
       "75%       1019.400000\n",
       "max       1038.900000\n",
       "Name: Pressure3pm, dtype: float64"
      ]
     },
     "execution_count": 226,
     "metadata": {},
     "output_type": "execute_result"
    }
   ],
   "source": [
    "data_final['Pressure3pm'].describe()"
   ]
  },
  {
   "cell_type": "code",
   "execution_count": 227,
   "metadata": {},
   "outputs": [
    {
     "name": "stdout",
     "output_type": "stream",
     "text": [
      "Pressure3pm outliers are values < 996.1500000000001 or > 1033.35\n"
     ]
    }
   ],
   "source": [
    "IQR = data.Pressure3pm.quantile(0.75) - data.Pressure3pm.quantile(0.25)\n",
    "Lower_fence = data.Pressure3pm.quantile(0.25) - (IQR * 1.5)\n",
    "Upper_fence = data.Pressure3pm.quantile(0.75) + (IQR * 1.5)\n",
    "print('Pressure3pm outliers are values < {lowerboundary} or > {upperboundary}'.format(lowerboundary=Lower_fence, upperboundary=Upper_fence))\n"
   ]
  },
  {
   "cell_type": "code",
   "execution_count": 228,
   "metadata": {},
   "outputs": [
    {
     "data": {
      "text/plain": [
       "count    56669.000000\n",
       "mean        65.947237\n",
       "std         18.562476\n",
       "min          0.000000\n",
       "25%         55.000000\n",
       "50%         67.000000\n",
       "75%         79.000000\n",
       "max        100.000000\n",
       "Name: Humidity9am, dtype: float64"
      ]
     },
     "execution_count": 228,
     "metadata": {},
     "output_type": "execute_result"
    }
   ],
   "source": [
    "data_final['Humidity9am'].describe()"
   ]
  },
  {
   "cell_type": "code",
   "execution_count": 229,
   "metadata": {},
   "outputs": [
    {
     "name": "stdout",
     "output_type": "stream",
     "text": [
      "Humidity9am outliers are values < 19.0 or > 115.0\n"
     ]
    }
   ],
   "source": [
    "IQR = data.Humidity9am.quantile(0.75) - data.Humidity9am.quantile(0.25)\n",
    "Lower_fence = data.Humidity9am.quantile(0.25) - (IQR * 1.5)\n",
    "Upper_fence = data.Humidity9am.quantile(0.75) + (IQR * 1.5)\n",
    "print('Humidity9am outliers are values < {lowerboundary} or > {upperboundary}'.format(lowerboundary=Lower_fence, upperboundary=Upper_fence))\n"
   ]
  },
  {
   "cell_type": "code",
   "execution_count": 230,
   "metadata": {},
   "outputs": [
    {
     "data": {
      "text/plain": [
       "count    56669.000000\n",
       "mean        40.876193\n",
       "std         13.341210\n",
       "min          9.000000\n",
       "25%         31.000000\n",
       "50%         39.000000\n",
       "75%         48.000000\n",
       "max        124.000000\n",
       "Name: WindGustSpeed, dtype: float64"
      ]
     },
     "execution_count": 230,
     "metadata": {},
     "output_type": "execute_result"
    }
   ],
   "source": [
    "data_final['WindGustSpeed'].describe()"
   ]
  },
  {
   "cell_type": "code",
   "execution_count": 231,
   "metadata": {},
   "outputs": [
    {
     "name": "stdout",
     "output_type": "stream",
     "text": [
      "WindGustSpeed outliers are values < 5.5 or > 73.5\n"
     ]
    }
   ],
   "source": [
    "IQR = data.WindGustSpeed.quantile(0.75) - data.WindGustSpeed.quantile(0.25)\n",
    "Lower_fence = data.WindGustSpeed.quantile(0.25) - (IQR * 1.5)\n",
    "Upper_fence = data.WindGustSpeed.quantile(0.75) + (IQR * 1.5)\n",
    "print('WindGustSpeed outliers are values < {lowerboundary} or > {upperboundary}'.format(lowerboundary=Lower_fence, upperboundary=Upper_fence))\n"
   ]
  },
  {
   "cell_type": "code",
   "execution_count": 232,
   "metadata": {},
   "outputs": [
    {
     "data": {
      "text/plain": [
       "count    56669.000000\n",
       "mean        15.664667\n",
       "std          8.318833\n",
       "min          2.000000\n",
       "25%          9.000000\n",
       "50%         15.000000\n",
       "75%         20.000000\n",
       "max         67.000000\n",
       "Name: WindSpeed9am, dtype: float64"
      ]
     },
     "execution_count": 232,
     "metadata": {},
     "output_type": "execute_result"
    }
   ],
   "source": [
    "data_final['WindSpeed9am'].describe()"
   ]
  },
  {
   "cell_type": "code",
   "execution_count": 233,
   "metadata": {},
   "outputs": [
    {
     "name": "stdout",
     "output_type": "stream",
     "text": [
      "WindSpeed9am outliers are values < -7.5 or > 36.5\n"
     ]
    }
   ],
   "source": [
    "IQR = data.WindSpeed9am.quantile(0.75) - data.WindSpeed9am.quantile(0.25)\n",
    "Lower_fence = data.WindSpeed9am.quantile(0.25) - (IQR * 1.5)\n",
    "Upper_fence = data.WindSpeed9am.quantile(0.75) + (IQR * 1.5)\n",
    "print('WindSpeed9am outliers are values < {lowerboundary} or > {upperboundary}'.format(lowerboundary=Lower_fence, upperboundary=Upper_fence))"
   ]
  },
  {
   "cell_type": "code",
   "execution_count": 234,
   "metadata": {},
   "outputs": [
    {
     "data": {
      "text/plain": [
       "count    56669.000000\n",
       "mean        19.783391\n",
       "std          8.513286\n",
       "min          2.000000\n",
       "25%         13.000000\n",
       "50%         19.000000\n",
       "75%         26.000000\n",
       "max         76.000000\n",
       "Name: WindSpeed3pm, dtype: float64"
      ]
     },
     "execution_count": 234,
     "metadata": {},
     "output_type": "execute_result"
    }
   ],
   "source": [
    "data_final['WindSpeed3pm'].describe()"
   ]
  },
  {
   "cell_type": "code",
   "execution_count": 235,
   "metadata": {},
   "outputs": [
    {
     "name": "stdout",
     "output_type": "stream",
     "text": [
      "WindSpeed3pm outliers are values < -6.5 or > 45.5\n"
     ]
    }
   ],
   "source": [
    "IQR = data.WindSpeed3pm.quantile(0.75) - data.WindSpeed3pm.quantile(0.25)\n",
    "Lower_fence = data.WindSpeed3pm.quantile(0.25) - (IQR * 1.5)\n",
    "Upper_fence = data.WindSpeed3pm.quantile(0.75) + (IQR * 1.5)\n",
    "print('WindSpeed3pm outliers are values < {lowerboundary} or > {upperboundary}'.format(lowerboundary=Lower_fence, upperboundary=Upper_fence))"
   ]
  },
  {
   "cell_type": "code",
   "execution_count": 236,
   "metadata": {},
   "outputs": [
    {
     "data": {
      "text/plain": [
       "count    56669.000000\n",
       "mean         2.133350\n",
       "std          7.010917\n",
       "min          0.000000\n",
       "25%          0.000000\n",
       "50%          0.000000\n",
       "75%          0.600000\n",
       "max        206.200000\n",
       "Name: Rainfall, dtype: float64"
      ]
     },
     "execution_count": 236,
     "metadata": {},
     "output_type": "execute_result"
    }
   ],
   "source": [
    "data_final['Rainfall'].describe()"
   ]
  },
  {
   "cell_type": "code",
   "execution_count": 237,
   "metadata": {},
   "outputs": [
    {
     "name": "stdout",
     "output_type": "stream",
     "text": [
      "Rainfall outliers are values < -0.8999999999999999 or > 1.5\n"
     ]
    }
   ],
   "source": [
    "IQR = data.Rainfall.quantile(0.75) - data.Rainfall.quantile(0.25)\n",
    "Lower_fence = data.Rainfall.quantile(0.25) - (IQR * 1.5)\n",
    "Upper_fence = data.Rainfall.quantile(0.75) + (IQR * 1.5)\n",
    "print('Rainfall outliers are values < {lowerboundary} or > {upperboundary}'.format(lowerboundary=Lower_fence, upperboundary=Upper_fence))"
   ]
  },
  {
   "cell_type": "code",
   "execution_count": 238,
   "metadata": {},
   "outputs": [
    {
     "data": {
      "text/plain": [
       "9"
      ]
     },
     "execution_count": 238,
     "metadata": {},
     "output_type": "execute_result"
    }
   ],
   "source": [
    "(data_final['MaxTemp']>46.2).sum()"
   ]
  },
  {
   "cell_type": "code",
   "execution_count": 239,
   "metadata": {},
   "outputs": [],
   "source": [
    "index=data_final[(data_final['MaxTemp']>46.2)|(data_final['MaxTemp']<2.2)].index\n",
    "data_final.drop(index,inplace=True)\n",
    "\n",
    "index=data_final[(data_final['Temp9am']>38.6)|(data_final['Temp9am']< -2.2)].index\n",
    "data_final.drop(index,inplace=True)\n",
    "\n",
    "index=data_final[(data_final['Temp3pm']>43.65)|(data_final['Temp3pm']< 1.65)].index\n",
    "data_final.drop(index,inplace=True)\n",
    "\n",
    "index=data_final[(data_final['Humidity9am']>115.0)|(data_final['Humidity9am']< 19.0)].index\n",
    "data_final.drop(index,inplace=True)\n",
    "\n",
    "index=data_final[(data_final['Pressure9am']>1028.7)|(data_final['Pressure9am']< 1005.8)].index\n",
    "data_final.drop(index,inplace=True)\n",
    "\n",
    "index=data_final[(data_final['Pressure3pm']>1033.35)|(data_final['Pressure3pm']< 996.15)].index\n",
    "data_final.drop(index,inplace=True)\n",
    "\n",
    "index=data_final[(data_final['Evaporation']>14.3)|(data_final['Evaporation']< -4.1)].index\n",
    "data_final.drop(index,inplace=True)\n",
    "\n",
    "index=data_final[(data_final['WindGustSpeed']>73.5)|(data_final['WindGustSpeed']< 5.5)].index\n",
    "data_final.drop(index,inplace=True)\n",
    "\n",
    "index=data_final[(data_final['WindSpeed9am']>36.5)|(data_final['WindSpeed9am']< -7.5)].index\n",
    "data_final.drop(index,inplace=True)\n",
    "\n",
    "index=data_final[(data_final['WindSpeed3pm']>45.5)|(data_final['WindSpeed3pm']< -6.5)].index\n",
    "data_final.drop(index,inplace=True)\n",
    "\n",
    "index=data_final[(data_final['Rainfall']>1.5)|(data_final['Rainfall']< -0.9)].index\n",
    "data_final.drop(index,inplace=True)"
   ]
  },
  {
   "cell_type": "code",
   "execution_count": 240,
   "metadata": {},
   "outputs": [
    {
     "data": {
      "text/html": [
       "<div>\n",
       "<style scoped>\n",
       "    .dataframe tbody tr th:only-of-type {\n",
       "        vertical-align: middle;\n",
       "    }\n",
       "\n",
       "    .dataframe tbody tr th {\n",
       "        vertical-align: top;\n",
       "    }\n",
       "\n",
       "    .dataframe thead th {\n",
       "        text-align: right;\n",
       "    }\n",
       "</style>\n",
       "<table border=\"1\" class=\"dataframe\">\n",
       "  <thead>\n",
       "    <tr style=\"text-align: right;\">\n",
       "      <th></th>\n",
       "      <th>MinTemp</th>\n",
       "      <th>MaxTemp</th>\n",
       "      <th>Rainfall</th>\n",
       "      <th>Evaporation</th>\n",
       "      <th>Sunshine</th>\n",
       "      <th>WindGustDir</th>\n",
       "      <th>WindGustSpeed</th>\n",
       "      <th>WindDir9am</th>\n",
       "      <th>WindDir3pm</th>\n",
       "      <th>WindSpeed9am</th>\n",
       "      <th>...</th>\n",
       "      <th>Humidity3pm</th>\n",
       "      <th>Pressure9am</th>\n",
       "      <th>Pressure3pm</th>\n",
       "      <th>Cloud9am</th>\n",
       "      <th>Cloud3pm</th>\n",
       "      <th>Temp9am</th>\n",
       "      <th>Temp3pm</th>\n",
       "      <th>RainToday</th>\n",
       "      <th>RainTomorrow</th>\n",
       "      <th>make_code</th>\n",
       "    </tr>\n",
       "  </thead>\n",
       "  <tbody>\n",
       "    <tr>\n",
       "      <th>44412</th>\n",
       "      <td>13.6</td>\n",
       "      <td>34.2</td>\n",
       "      <td>0.0</td>\n",
       "      <td>8.8</td>\n",
       "      <td>12.8</td>\n",
       "      <td>5</td>\n",
       "      <td>35.0</td>\n",
       "      <td>2</td>\n",
       "      <td>13</td>\n",
       "      <td>2.0</td>\n",
       "      <td>...</td>\n",
       "      <td>20.0</td>\n",
       "      <td>1015.8</td>\n",
       "      <td>1011.6</td>\n",
       "      <td>7.0</td>\n",
       "      <td>6.0</td>\n",
       "      <td>21.9</td>\n",
       "      <td>31.8</td>\n",
       "      <td>0</td>\n",
       "      <td>0</td>\n",
       "      <td>0</td>\n",
       "    </tr>\n",
       "    <tr>\n",
       "      <th>5939</th>\n",
       "      <td>17.9</td>\n",
       "      <td>35.2</td>\n",
       "      <td>0.0</td>\n",
       "      <td>12.0</td>\n",
       "      <td>12.3</td>\n",
       "      <td>11</td>\n",
       "      <td>48.0</td>\n",
       "      <td>1</td>\n",
       "      <td>12</td>\n",
       "      <td>6.0</td>\n",
       "      <td>...</td>\n",
       "      <td>13.0</td>\n",
       "      <td>1006.3</td>\n",
       "      <td>1004.4</td>\n",
       "      <td>2.0</td>\n",
       "      <td>5.0</td>\n",
       "      <td>26.6</td>\n",
       "      <td>33.4</td>\n",
       "      <td>0</td>\n",
       "      <td>0</td>\n",
       "      <td>0</td>\n",
       "    </tr>\n",
       "    <tr>\n",
       "      <th>117891</th>\n",
       "      <td>19.1</td>\n",
       "      <td>36.5</td>\n",
       "      <td>0.0</td>\n",
       "      <td>11.6</td>\n",
       "      <td>13.1</td>\n",
       "      <td>0</td>\n",
       "      <td>37.0</td>\n",
       "      <td>0</td>\n",
       "      <td>10</td>\n",
       "      <td>15.0</td>\n",
       "      <td>...</td>\n",
       "      <td>52.0</td>\n",
       "      <td>1010.5</td>\n",
       "      <td>1007.7</td>\n",
       "      <td>0.0</td>\n",
       "      <td>0.0</td>\n",
       "      <td>22.6</td>\n",
       "      <td>35.4</td>\n",
       "      <td>0</td>\n",
       "      <td>0</td>\n",
       "      <td>0</td>\n",
       "    </tr>\n",
       "    <tr>\n",
       "      <th>81877</th>\n",
       "      <td>22.2</td>\n",
       "      <td>33.9</td>\n",
       "      <td>0.0</td>\n",
       "      <td>9.0</td>\n",
       "      <td>6.9</td>\n",
       "      <td>13</td>\n",
       "      <td>44.0</td>\n",
       "      <td>9</td>\n",
       "      <td>5</td>\n",
       "      <td>4.0</td>\n",
       "      <td>...</td>\n",
       "      <td>65.0</td>\n",
       "      <td>1007.4</td>\n",
       "      <td>1005.1</td>\n",
       "      <td>5.0</td>\n",
       "      <td>7.0</td>\n",
       "      <td>29.7</td>\n",
       "      <td>30.9</td>\n",
       "      <td>0</td>\n",
       "      <td>0</td>\n",
       "      <td>0</td>\n",
       "    </tr>\n",
       "    <tr>\n",
       "      <th>96977</th>\n",
       "      <td>12.6</td>\n",
       "      <td>17.0</td>\n",
       "      <td>0.8</td>\n",
       "      <td>4.8</td>\n",
       "      <td>6.5</td>\n",
       "      <td>12</td>\n",
       "      <td>56.0</td>\n",
       "      <td>12</td>\n",
       "      <td>12</td>\n",
       "      <td>28.0</td>\n",
       "      <td>...</td>\n",
       "      <td>43.0</td>\n",
       "      <td>1008.3</td>\n",
       "      <td>1011.6</td>\n",
       "      <td>7.0</td>\n",
       "      <td>5.0</td>\n",
       "      <td>14.3</td>\n",
       "      <td>16.6</td>\n",
       "      <td>0</td>\n",
       "      <td>0</td>\n",
       "      <td>0</td>\n",
       "    </tr>\n",
       "    <tr>\n",
       "      <th>...</th>\n",
       "      <td>...</td>\n",
       "      <td>...</td>\n",
       "      <td>...</td>\n",
       "      <td>...</td>\n",
       "      <td>...</td>\n",
       "      <td>...</td>\n",
       "      <td>...</td>\n",
       "      <td>...</td>\n",
       "      <td>...</td>\n",
       "      <td>...</td>\n",
       "      <td>...</td>\n",
       "      <td>...</td>\n",
       "      <td>...</td>\n",
       "      <td>...</td>\n",
       "      <td>...</td>\n",
       "      <td>...</td>\n",
       "      <td>...</td>\n",
       "      <td>...</td>\n",
       "      <td>...</td>\n",
       "      <td>...</td>\n",
       "      <td>...</td>\n",
       "    </tr>\n",
       "    <tr>\n",
       "      <th>65568</th>\n",
       "      <td>16.0</td>\n",
       "      <td>25.2</td>\n",
       "      <td>0.0</td>\n",
       "      <td>8.6</td>\n",
       "      <td>11.9</td>\n",
       "      <td>10</td>\n",
       "      <td>41.0</td>\n",
       "      <td>12</td>\n",
       "      <td>10</td>\n",
       "      <td>11.0</td>\n",
       "      <td>...</td>\n",
       "      <td>48.0</td>\n",
       "      <td>1006.3</td>\n",
       "      <td>1005.4</td>\n",
       "      <td>6.0</td>\n",
       "      <td>1.0</td>\n",
       "      <td>18.6</td>\n",
       "      <td>23.5</td>\n",
       "      <td>0</td>\n",
       "      <td>0</td>\n",
       "      <td>0</td>\n",
       "    </tr>\n",
       "    <tr>\n",
       "      <th>117530</th>\n",
       "      <td>12.1</td>\n",
       "      <td>28.9</td>\n",
       "      <td>0.0</td>\n",
       "      <td>8.0</td>\n",
       "      <td>13.2</td>\n",
       "      <td>12</td>\n",
       "      <td>48.0</td>\n",
       "      <td>10</td>\n",
       "      <td>15</td>\n",
       "      <td>15.0</td>\n",
       "      <td>...</td>\n",
       "      <td>35.0</td>\n",
       "      <td>1016.1</td>\n",
       "      <td>1012.9</td>\n",
       "      <td>1.0</td>\n",
       "      <td>1.0</td>\n",
       "      <td>20.3</td>\n",
       "      <td>27.4</td>\n",
       "      <td>0</td>\n",
       "      <td>0</td>\n",
       "      <td>0</td>\n",
       "    </tr>\n",
       "    <tr>\n",
       "      <th>78576</th>\n",
       "      <td>16.7</td>\n",
       "      <td>26.5</td>\n",
       "      <td>0.0</td>\n",
       "      <td>8.6</td>\n",
       "      <td>11.9</td>\n",
       "      <td>14</td>\n",
       "      <td>28.0</td>\n",
       "      <td>13</td>\n",
       "      <td>15</td>\n",
       "      <td>11.0</td>\n",
       "      <td>...</td>\n",
       "      <td>47.0</td>\n",
       "      <td>1006.2</td>\n",
       "      <td>1005.2</td>\n",
       "      <td>6.0</td>\n",
       "      <td>1.0</td>\n",
       "      <td>19.4</td>\n",
       "      <td>25.1</td>\n",
       "      <td>0</td>\n",
       "      <td>0</td>\n",
       "      <td>0</td>\n",
       "    </tr>\n",
       "    <tr>\n",
       "      <th>71010</th>\n",
       "      <td>16.3</td>\n",
       "      <td>32.4</td>\n",
       "      <td>0.0</td>\n",
       "      <td>9.4</td>\n",
       "      <td>13.0</td>\n",
       "      <td>15</td>\n",
       "      <td>30.0</td>\n",
       "      <td>8</td>\n",
       "      <td>13</td>\n",
       "      <td>13.0</td>\n",
       "      <td>...</td>\n",
       "      <td>30.0</td>\n",
       "      <td>1008.0</td>\n",
       "      <td>1005.4</td>\n",
       "      <td>0.0</td>\n",
       "      <td>0.0</td>\n",
       "      <td>20.7</td>\n",
       "      <td>29.9</td>\n",
       "      <td>0</td>\n",
       "      <td>0</td>\n",
       "      <td>0</td>\n",
       "    </tr>\n",
       "    <tr>\n",
       "      <th>84683</th>\n",
       "      <td>24.5</td>\n",
       "      <td>33.9</td>\n",
       "      <td>0.0</td>\n",
       "      <td>8.0</td>\n",
       "      <td>13.1</td>\n",
       "      <td>4</td>\n",
       "      <td>31.0</td>\n",
       "      <td>3</td>\n",
       "      <td>4</td>\n",
       "      <td>6.0</td>\n",
       "      <td>...</td>\n",
       "      <td>57.0</td>\n",
       "      <td>1007.0</td>\n",
       "      <td>1003.4</td>\n",
       "      <td>3.0</td>\n",
       "      <td>1.0</td>\n",
       "      <td>30.6</td>\n",
       "      <td>31.9</td>\n",
       "      <td>0</td>\n",
       "      <td>0</td>\n",
       "      <td>0</td>\n",
       "    </tr>\n",
       "  </tbody>\n",
       "</table>\n",
       "<p>38886 rows × 22 columns</p>\n",
       "</div>"
      ],
      "text/plain": [
       "        MinTemp  MaxTemp  Rainfall  Evaporation  Sunshine  WindGustDir  \\\n",
       "44412      13.6     34.2       0.0          8.8      12.8            5   \n",
       "5939       17.9     35.2       0.0         12.0      12.3           11   \n",
       "117891     19.1     36.5       0.0         11.6      13.1            0   \n",
       "81877      22.2     33.9       0.0          9.0       6.9           13   \n",
       "96977      12.6     17.0       0.8          4.8       6.5           12   \n",
       "...         ...      ...       ...          ...       ...          ...   \n",
       "65568      16.0     25.2       0.0          8.6      11.9           10   \n",
       "117530     12.1     28.9       0.0          8.0      13.2           12   \n",
       "78576      16.7     26.5       0.0          8.6      11.9           14   \n",
       "71010      16.3     32.4       0.0          9.4      13.0           15   \n",
       "84683      24.5     33.9       0.0          8.0      13.1            4   \n",
       "\n",
       "        WindGustSpeed  WindDir9am  WindDir3pm  WindSpeed9am  ...  Humidity3pm  \\\n",
       "44412            35.0           2          13           2.0  ...         20.0   \n",
       "5939             48.0           1          12           6.0  ...         13.0   \n",
       "117891           37.0           0          10          15.0  ...         52.0   \n",
       "81877            44.0           9           5           4.0  ...         65.0   \n",
       "96977            56.0          12          12          28.0  ...         43.0   \n",
       "...               ...         ...         ...           ...  ...          ...   \n",
       "65568            41.0          12          10          11.0  ...         48.0   \n",
       "117530           48.0          10          15          15.0  ...         35.0   \n",
       "78576            28.0          13          15          11.0  ...         47.0   \n",
       "71010            30.0           8          13          13.0  ...         30.0   \n",
       "84683            31.0           3           4           6.0  ...         57.0   \n",
       "\n",
       "        Pressure9am  Pressure3pm  Cloud9am  Cloud3pm  Temp9am  Temp3pm  \\\n",
       "44412        1015.8       1011.6       7.0       6.0     21.9     31.8   \n",
       "5939         1006.3       1004.4       2.0       5.0     26.6     33.4   \n",
       "117891       1010.5       1007.7       0.0       0.0     22.6     35.4   \n",
       "81877        1007.4       1005.1       5.0       7.0     29.7     30.9   \n",
       "96977        1008.3       1011.6       7.0       5.0     14.3     16.6   \n",
       "...             ...          ...       ...       ...      ...      ...   \n",
       "65568        1006.3       1005.4       6.0       1.0     18.6     23.5   \n",
       "117530       1016.1       1012.9       1.0       1.0     20.3     27.4   \n",
       "78576        1006.2       1005.2       6.0       1.0     19.4     25.1   \n",
       "71010        1008.0       1005.4       0.0       0.0     20.7     29.9   \n",
       "84683        1007.0       1003.4       3.0       1.0     30.6     31.9   \n",
       "\n",
       "        RainToday  RainTomorrow  make_code  \n",
       "44412           0             0          0  \n",
       "5939            0             0          0  \n",
       "117891          0             0          0  \n",
       "81877           0             0          0  \n",
       "96977           0             0          0  \n",
       "...           ...           ...        ...  \n",
       "65568           0             0          0  \n",
       "117530          0             0          0  \n",
       "78576           0             0          0  \n",
       "71010           0             0          0  \n",
       "84683           0             0          0  \n",
       "\n",
       "[38886 rows x 22 columns]"
      ]
     },
     "execution_count": 240,
     "metadata": {},
     "output_type": "execute_result"
    }
   ],
   "source": [
    "data_final"
   ]
  },
  {
   "cell_type": "code",
   "execution_count": 241,
   "metadata": {},
   "outputs": [],
   "source": [
    "data_final.to_csv(\"Desktop/Filtered data.csv\")"
   ]
  },
  {
   "cell_type": "code",
   "execution_count": null,
   "metadata": {},
   "outputs": [],
   "source": []
  }
 ],
 "metadata": {
  "kernelspec": {
   "display_name": "Python 3",
   "language": "python",
   "name": "python3"
  },
  "language_info": {
   "codemirror_mode": {
    "name": "ipython",
    "version": 3
   },
   "file_extension": ".py",
   "mimetype": "text/x-python",
   "name": "python",
   "nbconvert_exporter": "python",
   "pygments_lexer": "ipython3",
   "version": "3.8.3"
  }
 },
 "nbformat": 4,
 "nbformat_minor": 4
}
